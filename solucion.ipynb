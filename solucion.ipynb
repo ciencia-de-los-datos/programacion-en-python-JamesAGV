{
 "cells": [
  {
   "cell_type": "code",
   "execution_count": 1,
   "metadata": {},
   "outputs": [],
   "source": [
    "#archivo=open('C:/Users/ACER/Documents/github_unal/programacion-en-python-JamesAGV/data.csv', mode='r').readlines()\n",
    "archivo=open('data.csv', mode='r').readlines()"
   ]
  },
  {
   "cell_type": "code",
   "execution_count": 2,
   "metadata": {},
   "outputs": [
    {
     "data": {
      "text/plain": [
       "['E\\t1\\t1999-02-28\\tb,g,f\\tjjj:12,bbb:3,ddd:9,ggg:8,hhh:2\\n',\n",
       " 'A\\t2\\t1999-10-28\\ta,f,c\\tccc:2,ddd:0,aaa:3,hhh:9\\n',\n",
       " 'B\\t5\\t1998-05-02\\tf,e,a,c\\tddd:2,ggg:5,ccc:6,jjj:12\\n',\n",
       " 'A\\t3\\t1999-08-28\\ta,b\\thhh:9,iii:5,eee:7,bbb:1\\n',\n",
       " 'C\\t6\\t1999-12-01\\tf,g,d,a\\tiii:6,ddd:5,eee:4,jjj:12\\n',\n",
       " 'A\\t7\\t1998-07-28\\tc,d\\tbbb:2,hhh:0,ccc:4,fff:1,aaa:7\\n',\n",
       " 'A\\t9\\t1997-02-28\\tg,d,a\\taaa:5,fff:8,ddd:2,iii:0,jjj:7,ccc:1\\n',\n",
       " 'B\\t1\\t1999-05-10\\tb,a\\tfff:3,hhh:1,ddd:2\\n',\n",
       " 'E\\t2\\t1997-04-12\\td,e,a,f\\teee:4,ccc:5,iii:9,fff:7,ggg:6,bbb:2\\n',\n",
       " 'B\\t3\\t1999-11-23\\td,b,g,f\\tbbb:7,jjj:9,fff:5,iii:4,ggg:3,eee:3\\n',\n",
       " 'C\\t7\\t1998-01-17\\td,c,f,b\\thhh:6,eee:4,iii:0,fff:2,jjj:12\\n',\n",
       " 'C\\t5\\t1998-12-28\\td,e,a,c\\tbbb:7,iii:6,ggg:9\\n',\n",
       " 'D\\t3\\t1999-10-15\\tg,e,f,b\\tbbb:9,aaa:3,ccc:6,fff:4,eee:2\\n',\n",
       " 'E\\t8\\t1998-11-01\\tc,f\\taaa:8,ddd:5,jjj:12\\n',\n",
       " 'B\\t9\\t1999-08-12\\td,b\\tccc:7,jjj:6,fff:7,ddd:3,aaa:2\\n',\n",
       " 'D\\t8\\t1997-12-01\\tf,e\\tccc:8,eee:6,bbb:9,ddd:3\\n',\n",
       " 'E\\t3\\t1997-07-28\\te,b,f\\tbbb:6,iii:3,hhh:5,fff:4,ggg:9,ddd:2\\n',\n",
       " 'D\\t5\\t1998-08-12\\tg,a\\thhh:4,jjj:5,ccc:9\\n',\n",
       " 'E\\t8\\t1999-08-24\\te,c,f,a\\tccc:1,iii:6,fff:9\\n',\n",
       " 'E\\t9\\t1998-01-23\\te,a\\tbbb:9,aaa:3,fff:1\\n',\n",
       " 'E\\t7\\t1999-06-22\\te,f\\tddd:9,iii:2,aaa:4\\n',\n",
       " 'E\\t3\\t1999-04-24\\tc,b,g\\tccc:5,fff:8,iii:7\\n',\n",
       " 'D\\t5\\t1999-06-25\\tc,f,a\\teee:3,jjj:17,ddd:7\\n',\n",
       " 'A\\t9\\t1999-08-25\\tf,a,d\\tjjj:12,ggg:7,ccc:7,ddd:9,bbb:3\\n',\n",
       " 'E\\t4\\t1997-07-26\\tc,d\\tjjj:6,ccc:4,aaa:1,hhh:9,iii:7,ggg:8\\n',\n",
       " 'E\\t6\\t1997-09-24\\te,d,c\\tfff:3,eee:6,iii:4,bbb:7,ddd:4,ccc:1\\n',\n",
       " 'A\\t8\\t1997-09-28\\ta,e,f\\tfff:0,ddd:5,ccc:4\\n',\n",
       " 'E\\t5\\t1999-06-22\\tc,a,g\\tggg:6,hhh:3,ddd:9,ccc:10,jjj:7\\n',\n",
       " 'A\\t6\\t1999-07-29\\tf,e\\thhh:6,jjj:13,eee:5,iii:7,ccc:3\\n',\n",
       " 'C\\t0\\t1999-08-22\\tf,c,a,g\\teee:1,fff:4,aaa:2,ccc:7,ggg:10,ddd:6\\n',\n",
       " 'A\\t9\\t1998-04-26\\tb,f\\tccc:6,aaa:9,eee:5,ddd:0,bbb:3\\n',\n",
       " 'D\\t3\\t1998-02-24\\tb,f\\tbbb:7,hhh:1,aaa:6,iii:4,fff:9,ddd:5\\n',\n",
       " 'E\\t5\\t1999-03-24\\ta,c\\tfff:3,ccc:1,ggg:3,eee:5\\n',\n",
       " 'B\\t4\\t1998-03-23\\tb,f,c\\tiii:7,ggg:3,ddd:0,jjj:8,hhh:5,ccc:1\\n',\n",
       " 'B\\t6\\t1999-04-21\\tf,a,e\\thhh:6,ccc:3,jjj:9,bbb:8,ddd:7\\n',\n",
       " 'D\\t7\\t1999-02-29\\ta,f\\taaa:1,fff:5,ddd:3\\n',\n",
       " 'B\\t8\\t1997-05-21\\tc,a\\tddd:5,jjj:17,iii:7,ccc:10,bbb:4\\n',\n",
       " 'C\\t9\\t1997-07-22\\tc,a,e,f\\teee:3,fff:2,hhh:6\\n',\n",
       " 'E\\t1\\t1999-09-28\\te,d\\tfff:9,iii:2,eee:5\\n',\n",
       " 'E\\t5\\t1998-01-26\\tf,a,d\\thhh:8,ggg:3,jjj:5\\n']"
      ]
     },
     "execution_count": 2,
     "metadata": {},
     "output_type": "execute_result"
    }
   ],
   "source": [
    "archivo"
   ]
  },
  {
   "cell_type": "code",
   "execution_count": 3,
   "metadata": {},
   "outputs": [
    {
     "data": {
      "text/plain": [
       "list"
      ]
     },
     "execution_count": 3,
     "metadata": {},
     "output_type": "execute_result"
    }
   ],
   "source": [
    "type(archivo)"
   ]
  },
  {
   "cell_type": "code",
   "execution_count": 4,
   "metadata": {},
   "outputs": [
    {
     "name": "stdout",
     "output_type": "stream",
     "text": [
      "E\t1\t1999-02-28\tb,g,f\tjjj:12,bbb:3,ddd:9,ggg:8,hhh:2\n",
      "\n",
      "A\t2\t1999-10-28\ta,f,c\tccc:2,ddd:0,aaa:3,hhh:9\n",
      "\n",
      "B\t5\t1998-05-02\tf,e,a,c\tddd:2,ggg:5,ccc:6,jjj:12\n",
      "\n",
      "A\t3\t1999-08-28\ta,b\thhh:9,iii:5,eee:7,bbb:1\n",
      "\n",
      "C\t6\t1999-12-01\tf,g,d,a\tiii:6,ddd:5,eee:4,jjj:12\n",
      "\n",
      "A\t7\t1998-07-28\tc,d\tbbb:2,hhh:0,ccc:4,fff:1,aaa:7\n",
      "\n",
      "A\t9\t1997-02-28\tg,d,a\taaa:5,fff:8,ddd:2,iii:0,jjj:7,ccc:1\n",
      "\n",
      "B\t1\t1999-05-10\tb,a\tfff:3,hhh:1,ddd:2\n",
      "\n",
      "E\t2\t1997-04-12\td,e,a,f\teee:4,ccc:5,iii:9,fff:7,ggg:6,bbb:2\n",
      "\n",
      "B\t3\t1999-11-23\td,b,g,f\tbbb:7,jjj:9,fff:5,iii:4,ggg:3,eee:3\n",
      "\n",
      "C\t7\t1998-01-17\td,c,f,b\thhh:6,eee:4,iii:0,fff:2,jjj:12\n",
      "\n",
      "C\t5\t1998-12-28\td,e,a,c\tbbb:7,iii:6,ggg:9\n",
      "\n",
      "D\t3\t1999-10-15\tg,e,f,b\tbbb:9,aaa:3,ccc:6,fff:4,eee:2\n",
      "\n",
      "E\t8\t1998-11-01\tc,f\taaa:8,ddd:5,jjj:12\n",
      "\n",
      "B\t9\t1999-08-12\td,b\tccc:7,jjj:6,fff:7,ddd:3,aaa:2\n",
      "\n",
      "D\t8\t1997-12-01\tf,e\tccc:8,eee:6,bbb:9,ddd:3\n",
      "\n",
      "E\t3\t1997-07-28\te,b,f\tbbb:6,iii:3,hhh:5,fff:4,ggg:9,ddd:2\n",
      "\n",
      "D\t5\t1998-08-12\tg,a\thhh:4,jjj:5,ccc:9\n",
      "\n",
      "E\t8\t1999-08-24\te,c,f,a\tccc:1,iii:6,fff:9\n",
      "\n",
      "E\t9\t1998-01-23\te,a\tbbb:9,aaa:3,fff:1\n",
      "\n",
      "E\t7\t1999-06-22\te,f\tddd:9,iii:2,aaa:4\n",
      "\n",
      "E\t3\t1999-04-24\tc,b,g\tccc:5,fff:8,iii:7\n",
      "\n",
      "D\t5\t1999-06-25\tc,f,a\teee:3,jjj:17,ddd:7\n",
      "\n",
      "A\t9\t1999-08-25\tf,a,d\tjjj:12,ggg:7,ccc:7,ddd:9,bbb:3\n",
      "\n",
      "E\t4\t1997-07-26\tc,d\tjjj:6,ccc:4,aaa:1,hhh:9,iii:7,ggg:8\n",
      "\n",
      "E\t6\t1997-09-24\te,d,c\tfff:3,eee:6,iii:4,bbb:7,ddd:4,ccc:1\n",
      "\n",
      "A\t8\t1997-09-28\ta,e,f\tfff:0,ddd:5,ccc:4\n",
      "\n",
      "E\t5\t1999-06-22\tc,a,g\tggg:6,hhh:3,ddd:9,ccc:10,jjj:7\n",
      "\n",
      "A\t6\t1999-07-29\tf,e\thhh:6,jjj:13,eee:5,iii:7,ccc:3\n",
      "\n",
      "C\t0\t1999-08-22\tf,c,a,g\teee:1,fff:4,aaa:2,ccc:7,ggg:10,ddd:6\n",
      "\n",
      "A\t9\t1998-04-26\tb,f\tccc:6,aaa:9,eee:5,ddd:0,bbb:3\n",
      "\n",
      "D\t3\t1998-02-24\tb,f\tbbb:7,hhh:1,aaa:6,iii:4,fff:9,ddd:5\n",
      "\n",
      "E\t5\t1999-03-24\ta,c\tfff:3,ccc:1,ggg:3,eee:5\n",
      "\n",
      "B\t4\t1998-03-23\tb,f,c\tiii:7,ggg:3,ddd:0,jjj:8,hhh:5,ccc:1\n",
      "\n",
      "B\t6\t1999-04-21\tf,a,e\thhh:6,ccc:3,jjj:9,bbb:8,ddd:7\n",
      "\n",
      "D\t7\t1999-02-29\ta,f\taaa:1,fff:5,ddd:3\n",
      "\n",
      "B\t8\t1997-05-21\tc,a\tddd:5,jjj:17,iii:7,ccc:10,bbb:4\n",
      "\n",
      "C\t9\t1997-07-22\tc,a,e,f\teee:3,fff:2,hhh:6\n",
      "\n",
      "E\t1\t1999-09-28\te,d\tfff:9,iii:2,eee:5\n",
      "\n",
      "E\t5\t1998-01-26\tf,a,d\thhh:8,ggg:3,jjj:5\n",
      "\n"
     ]
    }
   ],
   "source": [
    "for i in archivo:\n",
    "    print(i)"
   ]
  },
  {
   "cell_type": "code",
   "execution_count": 5,
   "metadata": {},
   "outputs": [
    {
     "data": {
      "text/plain": [
       "'E\\t1\\t1999-02-28\\tb,g,f\\tjjj:12,bbb:3,ddd:9,ggg:8,hhh:2\\n'"
      ]
     },
     "execution_count": 5,
     "metadata": {},
     "output_type": "execute_result"
    }
   ],
   "source": [
    "archivo[0]"
   ]
  },
  {
   "cell_type": "markdown",
   "metadata": {},
   "source": [
    "*Cada elemento de la lista es un string, se debe reemplazar los caracteres '\\n' por ''*"
   ]
  },
  {
   "cell_type": "code",
   "execution_count": 6,
   "metadata": {},
   "outputs": [
    {
     "data": {
      "text/plain": [
       "['E\\t1\\t1999-02-28\\tb,g,f\\tjjj:12,bbb:3,ddd:9,ggg:8,hhh:2',\n",
       " 'A\\t2\\t1999-10-28\\ta,f,c\\tccc:2,ddd:0,aaa:3,hhh:9',\n",
       " 'B\\t5\\t1998-05-02\\tf,e,a,c\\tddd:2,ggg:5,ccc:6,jjj:12',\n",
       " 'A\\t3\\t1999-08-28\\ta,b\\thhh:9,iii:5,eee:7,bbb:1',\n",
       " 'C\\t6\\t1999-12-01\\tf,g,d,a\\tiii:6,ddd:5,eee:4,jjj:12',\n",
       " 'A\\t7\\t1998-07-28\\tc,d\\tbbb:2,hhh:0,ccc:4,fff:1,aaa:7',\n",
       " 'A\\t9\\t1997-02-28\\tg,d,a\\taaa:5,fff:8,ddd:2,iii:0,jjj:7,ccc:1',\n",
       " 'B\\t1\\t1999-05-10\\tb,a\\tfff:3,hhh:1,ddd:2',\n",
       " 'E\\t2\\t1997-04-12\\td,e,a,f\\teee:4,ccc:5,iii:9,fff:7,ggg:6,bbb:2',\n",
       " 'B\\t3\\t1999-11-23\\td,b,g,f\\tbbb:7,jjj:9,fff:5,iii:4,ggg:3,eee:3',\n",
       " 'C\\t7\\t1998-01-17\\td,c,f,b\\thhh:6,eee:4,iii:0,fff:2,jjj:12',\n",
       " 'C\\t5\\t1998-12-28\\td,e,a,c\\tbbb:7,iii:6,ggg:9',\n",
       " 'D\\t3\\t1999-10-15\\tg,e,f,b\\tbbb:9,aaa:3,ccc:6,fff:4,eee:2',\n",
       " 'E\\t8\\t1998-11-01\\tc,f\\taaa:8,ddd:5,jjj:12',\n",
       " 'B\\t9\\t1999-08-12\\td,b\\tccc:7,jjj:6,fff:7,ddd:3,aaa:2',\n",
       " 'D\\t8\\t1997-12-01\\tf,e\\tccc:8,eee:6,bbb:9,ddd:3',\n",
       " 'E\\t3\\t1997-07-28\\te,b,f\\tbbb:6,iii:3,hhh:5,fff:4,ggg:9,ddd:2',\n",
       " 'D\\t5\\t1998-08-12\\tg,a\\thhh:4,jjj:5,ccc:9',\n",
       " 'E\\t8\\t1999-08-24\\te,c,f,a\\tccc:1,iii:6,fff:9',\n",
       " 'E\\t9\\t1998-01-23\\te,a\\tbbb:9,aaa:3,fff:1',\n",
       " 'E\\t7\\t1999-06-22\\te,f\\tddd:9,iii:2,aaa:4',\n",
       " 'E\\t3\\t1999-04-24\\tc,b,g\\tccc:5,fff:8,iii:7',\n",
       " 'D\\t5\\t1999-06-25\\tc,f,a\\teee:3,jjj:17,ddd:7',\n",
       " 'A\\t9\\t1999-08-25\\tf,a,d\\tjjj:12,ggg:7,ccc:7,ddd:9,bbb:3',\n",
       " 'E\\t4\\t1997-07-26\\tc,d\\tjjj:6,ccc:4,aaa:1,hhh:9,iii:7,ggg:8',\n",
       " 'E\\t6\\t1997-09-24\\te,d,c\\tfff:3,eee:6,iii:4,bbb:7,ddd:4,ccc:1',\n",
       " 'A\\t8\\t1997-09-28\\ta,e,f\\tfff:0,ddd:5,ccc:4',\n",
       " 'E\\t5\\t1999-06-22\\tc,a,g\\tggg:6,hhh:3,ddd:9,ccc:10,jjj:7',\n",
       " 'A\\t6\\t1999-07-29\\tf,e\\thhh:6,jjj:13,eee:5,iii:7,ccc:3',\n",
       " 'C\\t0\\t1999-08-22\\tf,c,a,g\\teee:1,fff:4,aaa:2,ccc:7,ggg:10,ddd:6',\n",
       " 'A\\t9\\t1998-04-26\\tb,f\\tccc:6,aaa:9,eee:5,ddd:0,bbb:3',\n",
       " 'D\\t3\\t1998-02-24\\tb,f\\tbbb:7,hhh:1,aaa:6,iii:4,fff:9,ddd:5',\n",
       " 'E\\t5\\t1999-03-24\\ta,c\\tfff:3,ccc:1,ggg:3,eee:5',\n",
       " 'B\\t4\\t1998-03-23\\tb,f,c\\tiii:7,ggg:3,ddd:0,jjj:8,hhh:5,ccc:1',\n",
       " 'B\\t6\\t1999-04-21\\tf,a,e\\thhh:6,ccc:3,jjj:9,bbb:8,ddd:7',\n",
       " 'D\\t7\\t1999-02-29\\ta,f\\taaa:1,fff:5,ddd:3',\n",
       " 'B\\t8\\t1997-05-21\\tc,a\\tddd:5,jjj:17,iii:7,ccc:10,bbb:4',\n",
       " 'C\\t9\\t1997-07-22\\tc,a,e,f\\teee:3,fff:2,hhh:6',\n",
       " 'E\\t1\\t1999-09-28\\te,d\\tfff:9,iii:2,eee:5',\n",
       " 'E\\t5\\t1998-01-26\\tf,a,d\\thhh:8,ggg:3,jjj:5']"
      ]
     },
     "execution_count": 6,
     "metadata": {},
     "output_type": "execute_result"
    }
   ],
   "source": [
    "archivo=[i.replace('\\n', '') for i in archivo]\n",
    "archivo"
   ]
  },
  {
   "cell_type": "markdown",
   "metadata": {},
   "source": [
    "De cada elemento de la lista, que corresponde a una línea del archivo, genero una lista donde sus elementos corresponden a los caracteres separados por la tabulación (\\t)"
   ]
  },
  {
   "cell_type": "code",
   "execution_count": 7,
   "metadata": {},
   "outputs": [
    {
     "data": {
      "text/plain": [
       "[['E', '1', '1999-02-28', 'b,g,f', 'jjj:12,bbb:3,ddd:9,ggg:8,hhh:2'],\n",
       " ['A', '2', '1999-10-28', 'a,f,c', 'ccc:2,ddd:0,aaa:3,hhh:9'],\n",
       " ['B', '5', '1998-05-02', 'f,e,a,c', 'ddd:2,ggg:5,ccc:6,jjj:12'],\n",
       " ['A', '3', '1999-08-28', 'a,b', 'hhh:9,iii:5,eee:7,bbb:1'],\n",
       " ['C', '6', '1999-12-01', 'f,g,d,a', 'iii:6,ddd:5,eee:4,jjj:12'],\n",
       " ['A', '7', '1998-07-28', 'c,d', 'bbb:2,hhh:0,ccc:4,fff:1,aaa:7'],\n",
       " ['A', '9', '1997-02-28', 'g,d,a', 'aaa:5,fff:8,ddd:2,iii:0,jjj:7,ccc:1'],\n",
       " ['B', '1', '1999-05-10', 'b,a', 'fff:3,hhh:1,ddd:2'],\n",
       " ['E', '2', '1997-04-12', 'd,e,a,f', 'eee:4,ccc:5,iii:9,fff:7,ggg:6,bbb:2'],\n",
       " ['B', '3', '1999-11-23', 'd,b,g,f', 'bbb:7,jjj:9,fff:5,iii:4,ggg:3,eee:3'],\n",
       " ['C', '7', '1998-01-17', 'd,c,f,b', 'hhh:6,eee:4,iii:0,fff:2,jjj:12'],\n",
       " ['C', '5', '1998-12-28', 'd,e,a,c', 'bbb:7,iii:6,ggg:9'],\n",
       " ['D', '3', '1999-10-15', 'g,e,f,b', 'bbb:9,aaa:3,ccc:6,fff:4,eee:2'],\n",
       " ['E', '8', '1998-11-01', 'c,f', 'aaa:8,ddd:5,jjj:12'],\n",
       " ['B', '9', '1999-08-12', 'd,b', 'ccc:7,jjj:6,fff:7,ddd:3,aaa:2'],\n",
       " ['D', '8', '1997-12-01', 'f,e', 'ccc:8,eee:6,bbb:9,ddd:3'],\n",
       " ['E', '3', '1997-07-28', 'e,b,f', 'bbb:6,iii:3,hhh:5,fff:4,ggg:9,ddd:2'],\n",
       " ['D', '5', '1998-08-12', 'g,a', 'hhh:4,jjj:5,ccc:9'],\n",
       " ['E', '8', '1999-08-24', 'e,c,f,a', 'ccc:1,iii:6,fff:9'],\n",
       " ['E', '9', '1998-01-23', 'e,a', 'bbb:9,aaa:3,fff:1'],\n",
       " ['E', '7', '1999-06-22', 'e,f', 'ddd:9,iii:2,aaa:4'],\n",
       " ['E', '3', '1999-04-24', 'c,b,g', 'ccc:5,fff:8,iii:7'],\n",
       " ['D', '5', '1999-06-25', 'c,f,a', 'eee:3,jjj:17,ddd:7'],\n",
       " ['A', '9', '1999-08-25', 'f,a,d', 'jjj:12,ggg:7,ccc:7,ddd:9,bbb:3'],\n",
       " ['E', '4', '1997-07-26', 'c,d', 'jjj:6,ccc:4,aaa:1,hhh:9,iii:7,ggg:8'],\n",
       " ['E', '6', '1997-09-24', 'e,d,c', 'fff:3,eee:6,iii:4,bbb:7,ddd:4,ccc:1'],\n",
       " ['A', '8', '1997-09-28', 'a,e,f', 'fff:0,ddd:5,ccc:4'],\n",
       " ['E', '5', '1999-06-22', 'c,a,g', 'ggg:6,hhh:3,ddd:9,ccc:10,jjj:7'],\n",
       " ['A', '6', '1999-07-29', 'f,e', 'hhh:6,jjj:13,eee:5,iii:7,ccc:3'],\n",
       " ['C', '0', '1999-08-22', 'f,c,a,g', 'eee:1,fff:4,aaa:2,ccc:7,ggg:10,ddd:6'],\n",
       " ['A', '9', '1998-04-26', 'b,f', 'ccc:6,aaa:9,eee:5,ddd:0,bbb:3'],\n",
       " ['D', '3', '1998-02-24', 'b,f', 'bbb:7,hhh:1,aaa:6,iii:4,fff:9,ddd:5'],\n",
       " ['E', '5', '1999-03-24', 'a,c', 'fff:3,ccc:1,ggg:3,eee:5'],\n",
       " ['B', '4', '1998-03-23', 'b,f,c', 'iii:7,ggg:3,ddd:0,jjj:8,hhh:5,ccc:1'],\n",
       " ['B', '6', '1999-04-21', 'f,a,e', 'hhh:6,ccc:3,jjj:9,bbb:8,ddd:7'],\n",
       " ['D', '7', '1999-02-29', 'a,f', 'aaa:1,fff:5,ddd:3'],\n",
       " ['B', '8', '1997-05-21', 'c,a', 'ddd:5,jjj:17,iii:7,ccc:10,bbb:4'],\n",
       " ['C', '9', '1997-07-22', 'c,a,e,f', 'eee:3,fff:2,hhh:6'],\n",
       " ['E', '1', '1999-09-28', 'e,d', 'fff:9,iii:2,eee:5'],\n",
       " ['E', '5', '1998-01-26', 'f,a,d', 'hhh:8,ggg:3,jjj:5']]"
      ]
     },
     "execution_count": 7,
     "metadata": {},
     "output_type": "execute_result"
    }
   ],
   "source": [
    "archivo=[i.split('\\t') for i in archivo]\n",
    "archivo"
   ]
  },
  {
   "cell_type": "markdown",
   "metadata": {},
   "source": [
    "***Pregunta No. 1***\n",
    "Retorne la suma de la segunda columna"
   ]
  },
  {
   "cell_type": "code",
   "execution_count": 8,
   "metadata": {},
   "outputs": [
    {
     "data": {
      "text/plain": [
       "214"
      ]
     },
     "execution_count": 8,
     "metadata": {},
     "output_type": "execute_result"
    }
   ],
   "source": [
    "suma=0\n",
    "for i in archivo:\n",
    "    suma += int(i[1])\n",
    "suma"
   ]
  },
  {
   "cell_type": "code",
   "execution_count": 9,
   "metadata": {},
   "outputs": [
    {
     "data": {
      "text/plain": [
       "214"
      ]
     },
     "execution_count": 9,
     "metadata": {},
     "output_type": "execute_result"
    }
   ],
   "source": [
    "lista_c_1=list(map(lambda x: int(x[1]), archivo))\n",
    "sum(lista_c_1)"
   ]
  },
  {
   "cell_type": "code",
   "execution_count": 10,
   "metadata": {},
   "outputs": [
    {
     "data": {
      "text/plain": [
       "'james andres garcia vidal'"
      ]
     },
     "execution_count": 10,
     "metadata": {},
     "output_type": "execute_result"
    }
   ],
   "source": [
    "palabra='james andres garcia vidal'\n",
    "palabra"
   ]
  },
  {
   "cell_type": "code",
   "execution_count": 11,
   "metadata": {},
   "outputs": [
    {
     "data": {
      "text/plain": [
       "['E',\n",
       " 'A',\n",
       " 'B',\n",
       " 'A',\n",
       " 'C',\n",
       " 'A',\n",
       " 'A',\n",
       " 'B',\n",
       " 'E',\n",
       " 'B',\n",
       " 'C',\n",
       " 'C',\n",
       " 'D',\n",
       " 'E',\n",
       " 'B',\n",
       " 'D',\n",
       " 'E',\n",
       " 'D',\n",
       " 'E',\n",
       " 'E',\n",
       " 'E',\n",
       " 'E',\n",
       " 'D',\n",
       " 'A',\n",
       " 'E',\n",
       " 'E',\n",
       " 'A',\n",
       " 'E',\n",
       " 'A',\n",
       " 'C',\n",
       " 'A',\n",
       " 'D',\n",
       " 'E',\n",
       " 'B',\n",
       " 'B',\n",
       " 'D',\n",
       " 'B',\n",
       " 'C',\n",
       " 'E',\n",
       " 'E']"
      ]
     },
     "execution_count": 11,
     "metadata": {},
     "output_type": "execute_result"
    }
   ],
   "source": [
    "letras=[i[0] for i in archivo]\n",
    "letras"
   ]
  },
  {
   "cell_type": "code",
   "execution_count": 12,
   "metadata": {},
   "outputs": [
    {
     "data": {
      "text/plain": [
       "{'A', 'B', 'C', 'D', 'E'}"
      ]
     },
     "execution_count": 12,
     "metadata": {},
     "output_type": "execute_result"
    }
   ],
   "source": [
    "letras_conjunto=set(letras)\n",
    "letras_conjunto"
   ]
  },
  {
   "cell_type": "code",
   "execution_count": 13,
   "metadata": {},
   "outputs": [
    {
     "data": {
      "text/plain": [
       "['A',\n",
       " 'A',\n",
       " 'A',\n",
       " 'A',\n",
       " 'A',\n",
       " 'A',\n",
       " 'A',\n",
       " 'A',\n",
       " 'B',\n",
       " 'B',\n",
       " 'B',\n",
       " 'B',\n",
       " 'B',\n",
       " 'B',\n",
       " 'B',\n",
       " 'C',\n",
       " 'C',\n",
       " 'C',\n",
       " 'C',\n",
       " 'C',\n",
       " 'D',\n",
       " 'D',\n",
       " 'D',\n",
       " 'D',\n",
       " 'D',\n",
       " 'D',\n",
       " 'E',\n",
       " 'E',\n",
       " 'E',\n",
       " 'E',\n",
       " 'E',\n",
       " 'E',\n",
       " 'E',\n",
       " 'E',\n",
       " 'E',\n",
       " 'E',\n",
       " 'E',\n",
       " 'E',\n",
       " 'E',\n",
       " 'E']"
      ]
     },
     "execution_count": 13,
     "metadata": {},
     "output_type": "execute_result"
    }
   ],
   "source": [
    "letras.sort()\n",
    "letras"
   ]
  },
  {
   "cell_type": "code",
   "execution_count": 14,
   "metadata": {},
   "outputs": [
    {
     "name": "stdout",
     "output_type": "stream",
     "text": [
      "A 8\n",
      "D 6\n",
      "B 7\n",
      "E 14\n",
      "C 5\n"
     ]
    }
   ],
   "source": [
    "for i in letras_conjunto:\n",
    "    print(i,letras.count(i))"
   ]
  },
  {
   "cell_type": "code",
   "execution_count": 15,
   "metadata": {},
   "outputs": [],
   "source": [
    "letras_ordenadas=list(letras_conjunto)\n",
    "letras_ordenadas.sort()"
   ]
  },
  {
   "cell_type": "code",
   "execution_count": 16,
   "metadata": {},
   "outputs": [
    {
     "data": {
      "text/plain": [
       "['A', 'B', 'C', 'D', 'E']"
      ]
     },
     "execution_count": 16,
     "metadata": {},
     "output_type": "execute_result"
    }
   ],
   "source": [
    "letras_ordenadas"
   ]
  },
  {
   "cell_type": "code",
   "execution_count": 17,
   "metadata": {},
   "outputs": [
    {
     "data": {
      "text/plain": [
       "[('A', 8), ('B', 7), ('C', 5), ('D', 6), ('E', 14)]"
      ]
     },
     "execution_count": 17,
     "metadata": {},
     "output_type": "execute_result"
    }
   ],
   "source": [
    "cantidad_letras=[(i,letras.count(i)) for i in letras_ordenadas]\n",
    "cantidad_letras"
   ]
  },
  {
   "cell_type": "code",
   "execution_count": 18,
   "metadata": {},
   "outputs": [
    {
     "data": {
      "text/plain": [
       "{'A': 0, 'B': 0, 'C': 0, 'D': 0, 'E': 0}"
      ]
     },
     "execution_count": 18,
     "metadata": {},
     "output_type": "execute_result"
    }
   ],
   "source": [
    "dict_letras={i:0 for i in letras_ordenadas}\n",
    "dict_letras"
   ]
  },
  {
   "cell_type": "code",
   "execution_count": 19,
   "metadata": {},
   "outputs": [],
   "source": [
    "a=3 if True else 0"
   ]
  },
  {
   "cell_type": "code",
   "execution_count": 20,
   "metadata": {},
   "outputs": [
    {
     "data": {
      "text/plain": [
       "3"
      ]
     },
     "execution_count": 20,
     "metadata": {},
     "output_type": "execute_result"
    }
   ],
   "source": [
    "a"
   ]
  },
  {
   "cell_type": "code",
   "execution_count": 21,
   "metadata": {},
   "outputs": [
    {
     "data": {
      "text/plain": [
       "[['A', '2', '1999-10-28', 'a,f,c', 'ccc:2,ddd:0,aaa:3,hhh:9'],\n",
       " ['A', '3', '1999-08-28', 'a,b', 'hhh:9,iii:5,eee:7,bbb:1'],\n",
       " ['A', '7', '1998-07-28', 'c,d', 'bbb:2,hhh:0,ccc:4,fff:1,aaa:7'],\n",
       " ['A', '9', '1997-02-28', 'g,d,a', 'aaa:5,fff:8,ddd:2,iii:0,jjj:7,ccc:1'],\n",
       " ['A', '9', '1999-08-25', 'f,a,d', 'jjj:12,ggg:7,ccc:7,ddd:9,bbb:3'],\n",
       " ['A', '8', '1997-09-28', 'a,e,f', 'fff:0,ddd:5,ccc:4'],\n",
       " ['A', '6', '1999-07-29', 'f,e', 'hhh:6,jjj:13,eee:5,iii:7,ccc:3'],\n",
       " ['A', '9', '1998-04-26', 'b,f', 'ccc:6,aaa:9,eee:5,ddd:0,bbb:3']]"
      ]
     },
     "execution_count": 21,
     "metadata": {},
     "output_type": "execute_result"
    }
   ],
   "source": [
    "filtro=list(filter(lambda x: x[0]=='A', archivo))\n",
    "filtro"
   ]
  },
  {
   "cell_type": "code",
   "execution_count": 22,
   "metadata": {},
   "outputs": [],
   "source": [
    "lista_filtrada=[list(filter(lambda x: x[0]==i, archivo)) for i in letras_ordenadas]"
   ]
  },
  {
   "cell_type": "code",
   "execution_count": 23,
   "metadata": {},
   "outputs": [
    {
     "data": {
      "text/plain": [
       "[[['A', '2', '1999-10-28', 'a,f,c', 'ccc:2,ddd:0,aaa:3,hhh:9'],\n",
       "  ['A', '3', '1999-08-28', 'a,b', 'hhh:9,iii:5,eee:7,bbb:1'],\n",
       "  ['A', '7', '1998-07-28', 'c,d', 'bbb:2,hhh:0,ccc:4,fff:1,aaa:7'],\n",
       "  ['A', '9', '1997-02-28', 'g,d,a', 'aaa:5,fff:8,ddd:2,iii:0,jjj:7,ccc:1'],\n",
       "  ['A', '9', '1999-08-25', 'f,a,d', 'jjj:12,ggg:7,ccc:7,ddd:9,bbb:3'],\n",
       "  ['A', '8', '1997-09-28', 'a,e,f', 'fff:0,ddd:5,ccc:4'],\n",
       "  ['A', '6', '1999-07-29', 'f,e', 'hhh:6,jjj:13,eee:5,iii:7,ccc:3'],\n",
       "  ['A', '9', '1998-04-26', 'b,f', 'ccc:6,aaa:9,eee:5,ddd:0,bbb:3']],\n",
       " [['B', '5', '1998-05-02', 'f,e,a,c', 'ddd:2,ggg:5,ccc:6,jjj:12'],\n",
       "  ['B', '1', '1999-05-10', 'b,a', 'fff:3,hhh:1,ddd:2'],\n",
       "  ['B', '3', '1999-11-23', 'd,b,g,f', 'bbb:7,jjj:9,fff:5,iii:4,ggg:3,eee:3'],\n",
       "  ['B', '9', '1999-08-12', 'd,b', 'ccc:7,jjj:6,fff:7,ddd:3,aaa:2'],\n",
       "  ['B', '4', '1998-03-23', 'b,f,c', 'iii:7,ggg:3,ddd:0,jjj:8,hhh:5,ccc:1'],\n",
       "  ['B', '6', '1999-04-21', 'f,a,e', 'hhh:6,ccc:3,jjj:9,bbb:8,ddd:7'],\n",
       "  ['B', '8', '1997-05-21', 'c,a', 'ddd:5,jjj:17,iii:7,ccc:10,bbb:4']],\n",
       " [['C', '6', '1999-12-01', 'f,g,d,a', 'iii:6,ddd:5,eee:4,jjj:12'],\n",
       "  ['C', '7', '1998-01-17', 'd,c,f,b', 'hhh:6,eee:4,iii:0,fff:2,jjj:12'],\n",
       "  ['C', '5', '1998-12-28', 'd,e,a,c', 'bbb:7,iii:6,ggg:9'],\n",
       "  ['C', '0', '1999-08-22', 'f,c,a,g', 'eee:1,fff:4,aaa:2,ccc:7,ggg:10,ddd:6'],\n",
       "  ['C', '9', '1997-07-22', 'c,a,e,f', 'eee:3,fff:2,hhh:6']],\n",
       " [['D', '3', '1999-10-15', 'g,e,f,b', 'bbb:9,aaa:3,ccc:6,fff:4,eee:2'],\n",
       "  ['D', '8', '1997-12-01', 'f,e', 'ccc:8,eee:6,bbb:9,ddd:3'],\n",
       "  ['D', '5', '1998-08-12', 'g,a', 'hhh:4,jjj:5,ccc:9'],\n",
       "  ['D', '5', '1999-06-25', 'c,f,a', 'eee:3,jjj:17,ddd:7'],\n",
       "  ['D', '3', '1998-02-24', 'b,f', 'bbb:7,hhh:1,aaa:6,iii:4,fff:9,ddd:5'],\n",
       "  ['D', '7', '1999-02-29', 'a,f', 'aaa:1,fff:5,ddd:3']],\n",
       " [['E', '1', '1999-02-28', 'b,g,f', 'jjj:12,bbb:3,ddd:9,ggg:8,hhh:2'],\n",
       "  ['E', '2', '1997-04-12', 'd,e,a,f', 'eee:4,ccc:5,iii:9,fff:7,ggg:6,bbb:2'],\n",
       "  ['E', '8', '1998-11-01', 'c,f', 'aaa:8,ddd:5,jjj:12'],\n",
       "  ['E', '3', '1997-07-28', 'e,b,f', 'bbb:6,iii:3,hhh:5,fff:4,ggg:9,ddd:2'],\n",
       "  ['E', '8', '1999-08-24', 'e,c,f,a', 'ccc:1,iii:6,fff:9'],\n",
       "  ['E', '9', '1998-01-23', 'e,a', 'bbb:9,aaa:3,fff:1'],\n",
       "  ['E', '7', '1999-06-22', 'e,f', 'ddd:9,iii:2,aaa:4'],\n",
       "  ['E', '3', '1999-04-24', 'c,b,g', 'ccc:5,fff:8,iii:7'],\n",
       "  ['E', '4', '1997-07-26', 'c,d', 'jjj:6,ccc:4,aaa:1,hhh:9,iii:7,ggg:8'],\n",
       "  ['E', '6', '1997-09-24', 'e,d,c', 'fff:3,eee:6,iii:4,bbb:7,ddd:4,ccc:1'],\n",
       "  ['E', '5', '1999-06-22', 'c,a,g', 'ggg:6,hhh:3,ddd:9,ccc:10,jjj:7'],\n",
       "  ['E', '5', '1999-03-24', 'a,c', 'fff:3,ccc:1,ggg:3,eee:5'],\n",
       "  ['E', '1', '1999-09-28', 'e,d', 'fff:9,iii:2,eee:5'],\n",
       "  ['E', '5', '1998-01-26', 'f,a,d', 'hhh:8,ggg:3,jjj:5']]]"
      ]
     },
     "execution_count": 23,
     "metadata": {},
     "output_type": "execute_result"
    }
   ],
   "source": [
    "lista_filtrada"
   ]
  },
  {
   "cell_type": "code",
   "execution_count": 24,
   "metadata": {},
   "outputs": [],
   "source": [
    "lista_valor= [list(map(lambda x: int(x[1]), i)) for i in lista_filtrada]"
   ]
  },
  {
   "cell_type": "code",
   "execution_count": 25,
   "metadata": {},
   "outputs": [],
   "source": [
    "lista_suma= list(map(lambda x: sum(x), lista_valor))"
   ]
  },
  {
   "cell_type": "code",
   "execution_count": 26,
   "metadata": {},
   "outputs": [
    {
     "data": {
      "text/plain": [
       "['A', 'B', 'C', 'D', 'E']"
      ]
     },
     "execution_count": 26,
     "metadata": {},
     "output_type": "execute_result"
    }
   ],
   "source": [
    "letras_ordenadas"
   ]
  },
  {
   "cell_type": "code",
   "execution_count": 27,
   "metadata": {},
   "outputs": [],
   "source": [
    "dict_cantidades=dict(zip(letras_ordenadas, lista_suma))"
   ]
  },
  {
   "cell_type": "code",
   "execution_count": 28,
   "metadata": {},
   "outputs": [
    {
     "data": {
      "text/plain": [
       "{'A': 53, 'B': 36, 'C': 27, 'D': 31, 'E': 67}"
      ]
     },
     "execution_count": 28,
     "metadata": {},
     "output_type": "execute_result"
    }
   ],
   "source": [
    "dict_cantidades"
   ]
  },
  {
   "cell_type": "markdown",
   "metadata": {},
   "source": [
    "**Pregunta 3**"
   ]
  },
  {
   "cell_type": "code",
   "execution_count": 29,
   "metadata": {},
   "outputs": [
    {
     "data": {
      "text/plain": [
       "[('A', 53), ('B', 36), ('C', 27), ('D', 31), ('E', 67)]"
      ]
     },
     "execution_count": 29,
     "metadata": {},
     "output_type": "execute_result"
    }
   ],
   "source": [
    "[(letras_ordenadas[i], lista_suma[i]) for i in range(5)]"
   ]
  },
  {
   "cell_type": "code",
   "execution_count": 30,
   "metadata": {},
   "outputs": [
    {
     "data": {
      "text/plain": [
       "[53, 36, 27, 31, 67]"
      ]
     },
     "execution_count": 30,
     "metadata": {},
     "output_type": "execute_result"
    }
   ],
   "source": [
    "lista_suma"
   ]
  },
  {
   "cell_type": "code",
   "execution_count": 31,
   "metadata": {},
   "outputs": [
    {
     "data": {
      "text/plain": [
       "[[2, 3, 7, 9, 9, 8, 6, 9],\n",
       " [5, 1, 3, 9, 4, 6, 8],\n",
       " [6, 7, 5, 0, 9],\n",
       " [3, 8, 5, 5, 3, 7],\n",
       " [1, 2, 8, 3, 8, 9, 7, 3, 4, 6, 5, 5, 1, 5]]"
      ]
     },
     "execution_count": 31,
     "metadata": {},
     "output_type": "execute_result"
    }
   ],
   "source": [
    "lista_valor"
   ]
  },
  {
   "cell_type": "code",
   "execution_count": 32,
   "metadata": {},
   "outputs": [
    {
     "data": {
      "text/plain": [
       "[[['A', '2', '1999-10-28', 'a,f,c', 'ccc:2,ddd:0,aaa:3,hhh:9'],\n",
       "  ['A', '3', '1999-08-28', 'a,b', 'hhh:9,iii:5,eee:7,bbb:1'],\n",
       "  ['A', '7', '1998-07-28', 'c,d', 'bbb:2,hhh:0,ccc:4,fff:1,aaa:7'],\n",
       "  ['A', '9', '1997-02-28', 'g,d,a', 'aaa:5,fff:8,ddd:2,iii:0,jjj:7,ccc:1'],\n",
       "  ['A', '9', '1999-08-25', 'f,a,d', 'jjj:12,ggg:7,ccc:7,ddd:9,bbb:3'],\n",
       "  ['A', '8', '1997-09-28', 'a,e,f', 'fff:0,ddd:5,ccc:4'],\n",
       "  ['A', '6', '1999-07-29', 'f,e', 'hhh:6,jjj:13,eee:5,iii:7,ccc:3'],\n",
       "  ['A', '9', '1998-04-26', 'b,f', 'ccc:6,aaa:9,eee:5,ddd:0,bbb:3']],\n",
       " [['B', '5', '1998-05-02', 'f,e,a,c', 'ddd:2,ggg:5,ccc:6,jjj:12'],\n",
       "  ['B', '1', '1999-05-10', 'b,a', 'fff:3,hhh:1,ddd:2'],\n",
       "  ['B', '3', '1999-11-23', 'd,b,g,f', 'bbb:7,jjj:9,fff:5,iii:4,ggg:3,eee:3'],\n",
       "  ['B', '9', '1999-08-12', 'd,b', 'ccc:7,jjj:6,fff:7,ddd:3,aaa:2'],\n",
       "  ['B', '4', '1998-03-23', 'b,f,c', 'iii:7,ggg:3,ddd:0,jjj:8,hhh:5,ccc:1'],\n",
       "  ['B', '6', '1999-04-21', 'f,a,e', 'hhh:6,ccc:3,jjj:9,bbb:8,ddd:7'],\n",
       "  ['B', '8', '1997-05-21', 'c,a', 'ddd:5,jjj:17,iii:7,ccc:10,bbb:4']],\n",
       " [['C', '6', '1999-12-01', 'f,g,d,a', 'iii:6,ddd:5,eee:4,jjj:12'],\n",
       "  ['C', '7', '1998-01-17', 'd,c,f,b', 'hhh:6,eee:4,iii:0,fff:2,jjj:12'],\n",
       "  ['C', '5', '1998-12-28', 'd,e,a,c', 'bbb:7,iii:6,ggg:9'],\n",
       "  ['C', '0', '1999-08-22', 'f,c,a,g', 'eee:1,fff:4,aaa:2,ccc:7,ggg:10,ddd:6'],\n",
       "  ['C', '9', '1997-07-22', 'c,a,e,f', 'eee:3,fff:2,hhh:6']],\n",
       " [['D', '3', '1999-10-15', 'g,e,f,b', 'bbb:9,aaa:3,ccc:6,fff:4,eee:2'],\n",
       "  ['D', '8', '1997-12-01', 'f,e', 'ccc:8,eee:6,bbb:9,ddd:3'],\n",
       "  ['D', '5', '1998-08-12', 'g,a', 'hhh:4,jjj:5,ccc:9'],\n",
       "  ['D', '5', '1999-06-25', 'c,f,a', 'eee:3,jjj:17,ddd:7'],\n",
       "  ['D', '3', '1998-02-24', 'b,f', 'bbb:7,hhh:1,aaa:6,iii:4,fff:9,ddd:5'],\n",
       "  ['D', '7', '1999-02-29', 'a,f', 'aaa:1,fff:5,ddd:3']],\n",
       " [['E', '1', '1999-02-28', 'b,g,f', 'jjj:12,bbb:3,ddd:9,ggg:8,hhh:2'],\n",
       "  ['E', '2', '1997-04-12', 'd,e,a,f', 'eee:4,ccc:5,iii:9,fff:7,ggg:6,bbb:2'],\n",
       "  ['E', '8', '1998-11-01', 'c,f', 'aaa:8,ddd:5,jjj:12'],\n",
       "  ['E', '3', '1997-07-28', 'e,b,f', 'bbb:6,iii:3,hhh:5,fff:4,ggg:9,ddd:2'],\n",
       "  ['E', '8', '1999-08-24', 'e,c,f,a', 'ccc:1,iii:6,fff:9'],\n",
       "  ['E', '9', '1998-01-23', 'e,a', 'bbb:9,aaa:3,fff:1'],\n",
       "  ['E', '7', '1999-06-22', 'e,f', 'ddd:9,iii:2,aaa:4'],\n",
       "  ['E', '3', '1999-04-24', 'c,b,g', 'ccc:5,fff:8,iii:7'],\n",
       "  ['E', '4', '1997-07-26', 'c,d', 'jjj:6,ccc:4,aaa:1,hhh:9,iii:7,ggg:8'],\n",
       "  ['E', '6', '1997-09-24', 'e,d,c', 'fff:3,eee:6,iii:4,bbb:7,ddd:4,ccc:1'],\n",
       "  ['E', '5', '1999-06-22', 'c,a,g', 'ggg:6,hhh:3,ddd:9,ccc:10,jjj:7'],\n",
       "  ['E', '5', '1999-03-24', 'a,c', 'fff:3,ccc:1,ggg:3,eee:5'],\n",
       "  ['E', '1', '1999-09-28', 'e,d', 'fff:9,iii:2,eee:5'],\n",
       "  ['E', '5', '1998-01-26', 'f,a,d', 'hhh:8,ggg:3,jjj:5']]]"
      ]
     },
     "execution_count": 32,
     "metadata": {},
     "output_type": "execute_result"
    }
   ],
   "source": [
    "lista_filtrada"
   ]
  },
  {
   "cell_type": "code",
   "execution_count": 33,
   "metadata": {},
   "outputs": [],
   "source": [
    "sumas=list(map(lambda x: int(x[1]) if x[0]=='A' else 0, archivo))"
   ]
  },
  {
   "cell_type": "code",
   "execution_count": 34,
   "metadata": {},
   "outputs": [
    {
     "data": {
      "text/plain": [
       "[0,\n",
       " 2,\n",
       " 0,\n",
       " 3,\n",
       " 0,\n",
       " 7,\n",
       " 9,\n",
       " 0,\n",
       " 0,\n",
       " 0,\n",
       " 0,\n",
       " 0,\n",
       " 0,\n",
       " 0,\n",
       " 0,\n",
       " 0,\n",
       " 0,\n",
       " 0,\n",
       " 0,\n",
       " 0,\n",
       " 0,\n",
       " 0,\n",
       " 0,\n",
       " 9,\n",
       " 0,\n",
       " 0,\n",
       " 8,\n",
       " 0,\n",
       " 6,\n",
       " 0,\n",
       " 9,\n",
       " 0,\n",
       " 0,\n",
       " 0,\n",
       " 0,\n",
       " 0,\n",
       " 0,\n",
       " 0,\n",
       " 0,\n",
       " 0]"
      ]
     },
     "execution_count": 34,
     "metadata": {},
     "output_type": "execute_result"
    }
   ],
   "source": [
    "sumas"
   ]
  },
  {
   "cell_type": "code",
   "execution_count": 35,
   "metadata": {},
   "outputs": [
    {
     "data": {
      "text/plain": [
       "53"
      ]
     },
     "execution_count": 35,
     "metadata": {},
     "output_type": "execute_result"
    }
   ],
   "source": [
    "sum(sumas)"
   ]
  },
  {
   "cell_type": "code",
   "execution_count": 36,
   "metadata": {},
   "outputs": [
    {
     "data": {
      "text/plain": [
       "[['E', '1', '1999-02-28', 'b,g,f', 'jjj:12,bbb:3,ddd:9,ggg:8,hhh:2'],\n",
       " ['A', '2', '1999-10-28', 'a,f,c', 'ccc:2,ddd:0,aaa:3,hhh:9'],\n",
       " ['B', '5', '1998-05-02', 'f,e,a,c', 'ddd:2,ggg:5,ccc:6,jjj:12'],\n",
       " ['A', '3', '1999-08-28', 'a,b', 'hhh:9,iii:5,eee:7,bbb:1'],\n",
       " ['C', '6', '1999-12-01', 'f,g,d,a', 'iii:6,ddd:5,eee:4,jjj:12'],\n",
       " ['A', '7', '1998-07-28', 'c,d', 'bbb:2,hhh:0,ccc:4,fff:1,aaa:7'],\n",
       " ['A', '9', '1997-02-28', 'g,d,a', 'aaa:5,fff:8,ddd:2,iii:0,jjj:7,ccc:1'],\n",
       " ['B', '1', '1999-05-10', 'b,a', 'fff:3,hhh:1,ddd:2'],\n",
       " ['E', '2', '1997-04-12', 'd,e,a,f', 'eee:4,ccc:5,iii:9,fff:7,ggg:6,bbb:2'],\n",
       " ['B', '3', '1999-11-23', 'd,b,g,f', 'bbb:7,jjj:9,fff:5,iii:4,ggg:3,eee:3'],\n",
       " ['C', '7', '1998-01-17', 'd,c,f,b', 'hhh:6,eee:4,iii:0,fff:2,jjj:12'],\n",
       " ['C', '5', '1998-12-28', 'd,e,a,c', 'bbb:7,iii:6,ggg:9'],\n",
       " ['D', '3', '1999-10-15', 'g,e,f,b', 'bbb:9,aaa:3,ccc:6,fff:4,eee:2'],\n",
       " ['E', '8', '1998-11-01', 'c,f', 'aaa:8,ddd:5,jjj:12'],\n",
       " ['B', '9', '1999-08-12', 'd,b', 'ccc:7,jjj:6,fff:7,ddd:3,aaa:2'],\n",
       " ['D', '8', '1997-12-01', 'f,e', 'ccc:8,eee:6,bbb:9,ddd:3'],\n",
       " ['E', '3', '1997-07-28', 'e,b,f', 'bbb:6,iii:3,hhh:5,fff:4,ggg:9,ddd:2'],\n",
       " ['D', '5', '1998-08-12', 'g,a', 'hhh:4,jjj:5,ccc:9'],\n",
       " ['E', '8', '1999-08-24', 'e,c,f,a', 'ccc:1,iii:6,fff:9'],\n",
       " ['E', '9', '1998-01-23', 'e,a', 'bbb:9,aaa:3,fff:1'],\n",
       " ['E', '7', '1999-06-22', 'e,f', 'ddd:9,iii:2,aaa:4'],\n",
       " ['E', '3', '1999-04-24', 'c,b,g', 'ccc:5,fff:8,iii:7'],\n",
       " ['D', '5', '1999-06-25', 'c,f,a', 'eee:3,jjj:17,ddd:7'],\n",
       " ['A', '9', '1999-08-25', 'f,a,d', 'jjj:12,ggg:7,ccc:7,ddd:9,bbb:3'],\n",
       " ['E', '4', '1997-07-26', 'c,d', 'jjj:6,ccc:4,aaa:1,hhh:9,iii:7,ggg:8'],\n",
       " ['E', '6', '1997-09-24', 'e,d,c', 'fff:3,eee:6,iii:4,bbb:7,ddd:4,ccc:1'],\n",
       " ['A', '8', '1997-09-28', 'a,e,f', 'fff:0,ddd:5,ccc:4'],\n",
       " ['E', '5', '1999-06-22', 'c,a,g', 'ggg:6,hhh:3,ddd:9,ccc:10,jjj:7'],\n",
       " ['A', '6', '1999-07-29', 'f,e', 'hhh:6,jjj:13,eee:5,iii:7,ccc:3'],\n",
       " ['C', '0', '1999-08-22', 'f,c,a,g', 'eee:1,fff:4,aaa:2,ccc:7,ggg:10,ddd:6'],\n",
       " ['A', '9', '1998-04-26', 'b,f', 'ccc:6,aaa:9,eee:5,ddd:0,bbb:3'],\n",
       " ['D', '3', '1998-02-24', 'b,f', 'bbb:7,hhh:1,aaa:6,iii:4,fff:9,ddd:5'],\n",
       " ['E', '5', '1999-03-24', 'a,c', 'fff:3,ccc:1,ggg:3,eee:5'],\n",
       " ['B', '4', '1998-03-23', 'b,f,c', 'iii:7,ggg:3,ddd:0,jjj:8,hhh:5,ccc:1'],\n",
       " ['B', '6', '1999-04-21', 'f,a,e', 'hhh:6,ccc:3,jjj:9,bbb:8,ddd:7'],\n",
       " ['D', '7', '1999-02-29', 'a,f', 'aaa:1,fff:5,ddd:3'],\n",
       " ['B', '8', '1997-05-21', 'c,a', 'ddd:5,jjj:17,iii:7,ccc:10,bbb:4'],\n",
       " ['C', '9', '1997-07-22', 'c,a,e,f', 'eee:3,fff:2,hhh:6'],\n",
       " ['E', '1', '1999-09-28', 'e,d', 'fff:9,iii:2,eee:5'],\n",
       " ['E', '5', '1998-01-26', 'f,a,d', 'hhh:8,ggg:3,jjj:5']]"
      ]
     },
     "execution_count": 36,
     "metadata": {},
     "output_type": "execute_result"
    }
   ],
   "source": [
    "archivo"
   ]
  },
  {
   "cell_type": "markdown",
   "metadata": {},
   "source": [
    "*Pregunta 4*"
   ]
  },
  {
   "cell_type": "markdown",
   "metadata": {},
   "source": [
    "Creo una lista que sus elementos listen los campos de cada fecha"
   ]
  },
  {
   "cell_type": "code",
   "execution_count": 37,
   "metadata": {},
   "outputs": [
    {
     "data": {
      "text/plain": [
       "[['1999', '02', '28'],\n",
       " ['1999', '10', '28'],\n",
       " ['1998', '05', '02'],\n",
       " ['1999', '08', '28'],\n",
       " ['1999', '12', '01'],\n",
       " ['1998', '07', '28'],\n",
       " ['1997', '02', '28'],\n",
       " ['1999', '05', '10'],\n",
       " ['1997', '04', '12'],\n",
       " ['1999', '11', '23'],\n",
       " ['1998', '01', '17'],\n",
       " ['1998', '12', '28'],\n",
       " ['1999', '10', '15'],\n",
       " ['1998', '11', '01'],\n",
       " ['1999', '08', '12'],\n",
       " ['1997', '12', '01'],\n",
       " ['1997', '07', '28'],\n",
       " ['1998', '08', '12'],\n",
       " ['1999', '08', '24'],\n",
       " ['1998', '01', '23'],\n",
       " ['1999', '06', '22'],\n",
       " ['1999', '04', '24'],\n",
       " ['1999', '06', '25'],\n",
       " ['1999', '08', '25'],\n",
       " ['1997', '07', '26'],\n",
       " ['1997', '09', '24'],\n",
       " ['1997', '09', '28'],\n",
       " ['1999', '06', '22'],\n",
       " ['1999', '07', '29'],\n",
       " ['1999', '08', '22'],\n",
       " ['1998', '04', '26'],\n",
       " ['1998', '02', '24'],\n",
       " ['1999', '03', '24'],\n",
       " ['1998', '03', '23'],\n",
       " ['1999', '04', '21'],\n",
       " ['1999', '02', '29'],\n",
       " ['1997', '05', '21'],\n",
       " ['1997', '07', '22'],\n",
       " ['1999', '09', '28'],\n",
       " ['1998', '01', '26']]"
      ]
     },
     "execution_count": 37,
     "metadata": {},
     "output_type": "execute_result"
    }
   ],
   "source": [
    "fechaL=[i[2].split('-') for i in archivo]\n",
    "fechaL"
   ]
  },
  {
   "cell_type": "code",
   "execution_count": 38,
   "metadata": {},
   "outputs": [
    {
     "data": {
      "text/plain": [
       "['01',\n",
       " '01',\n",
       " '01',\n",
       " '02',\n",
       " '02',\n",
       " '02',\n",
       " '02',\n",
       " '03',\n",
       " '03',\n",
       " '04',\n",
       " '04',\n",
       " '04',\n",
       " '04',\n",
       " '05',\n",
       " '05',\n",
       " '05',\n",
       " '06',\n",
       " '06',\n",
       " '06',\n",
       " '07',\n",
       " '07',\n",
       " '07',\n",
       " '07',\n",
       " '07',\n",
       " '08',\n",
       " '08',\n",
       " '08',\n",
       " '08',\n",
       " '08',\n",
       " '08',\n",
       " '09',\n",
       " '09',\n",
       " '09',\n",
       " '10',\n",
       " '10',\n",
       " '11',\n",
       " '11',\n",
       " '12',\n",
       " '12',\n",
       " '12']"
      ]
     },
     "execution_count": 38,
     "metadata": {},
     "output_type": "execute_result"
    }
   ],
   "source": [
    "meses=[i[1] for i in fechaL]\n",
    "meses.sort()\n",
    "meses"
   ]
  },
  {
   "cell_type": "code",
   "execution_count": 39,
   "metadata": {},
   "outputs": [],
   "source": [
    "monthSet=list(set([i[1] for i in fechaL]))\n",
    "monthSet.sort()"
   ]
  },
  {
   "cell_type": "code",
   "execution_count": 40,
   "metadata": {},
   "outputs": [
    {
     "data": {
      "text/plain": [
       "['01', '02', '03', '04', '05', '06', '07', '08', '09', '10', '11', '12']"
      ]
     },
     "execution_count": 40,
     "metadata": {},
     "output_type": "execute_result"
    }
   ],
   "source": [
    "monthSet"
   ]
  },
  {
   "cell_type": "code",
   "execution_count": 41,
   "metadata": {},
   "outputs": [
    {
     "data": {
      "text/plain": [
       "3"
      ]
     },
     "execution_count": 41,
     "metadata": {},
     "output_type": "execute_result"
    }
   ],
   "source": [
    "meses.count('01')"
   ]
  },
  {
   "cell_type": "code",
   "execution_count": 42,
   "metadata": {},
   "outputs": [
    {
     "data": {
      "text/plain": [
       "[('01', 3),\n",
       " ('02', 4),\n",
       " ('03', 2),\n",
       " ('04', 4),\n",
       " ('05', 3),\n",
       " ('06', 3),\n",
       " ('07', 5),\n",
       " ('08', 6),\n",
       " ('09', 3),\n",
       " ('10', 2),\n",
       " ('11', 2),\n",
       " ('12', 3)]"
      ]
     },
     "execution_count": 42,
     "metadata": {},
     "output_type": "execute_result"
    }
   ],
   "source": [
    "tMeses=[(i, meses.count(i)) for i in monthSet]\n",
    "tMeses"
   ]
  },
  {
   "cell_type": "markdown",
   "metadata": {},
   "source": [
    "*Pregunta 5*"
   ]
  },
  {
   "cell_type": "code",
   "execution_count": 43,
   "metadata": {},
   "outputs": [
    {
     "name": "stdout",
     "output_type": "stream",
     "text": [
      "10 1\n"
     ]
    }
   ],
   "source": [
    "print(max([1,2,3,4,5,6,7,8,9,10]), min([1,2,3,4,5,6,7,8,9,10]))"
   ]
  },
  {
   "cell_type": "code",
   "execution_count": 44,
   "metadata": {},
   "outputs": [
    {
     "data": {
      "text/plain": [
       "['A', 'B', 'C', 'D', 'E']"
      ]
     },
     "execution_count": 44,
     "metadata": {},
     "output_type": "execute_result"
    }
   ],
   "source": [
    "letras_ordenadas"
   ]
  },
  {
   "cell_type": "code",
   "execution_count": 45,
   "metadata": {},
   "outputs": [
    {
     "data": {
      "text/plain": [
       "[[['A', '2', '1999-10-28', 'a,f,c', 'ccc:2,ddd:0,aaa:3,hhh:9'],\n",
       "  ['A', '3', '1999-08-28', 'a,b', 'hhh:9,iii:5,eee:7,bbb:1'],\n",
       "  ['A', '7', '1998-07-28', 'c,d', 'bbb:2,hhh:0,ccc:4,fff:1,aaa:7'],\n",
       "  ['A', '9', '1997-02-28', 'g,d,a', 'aaa:5,fff:8,ddd:2,iii:0,jjj:7,ccc:1'],\n",
       "  ['A', '9', '1999-08-25', 'f,a,d', 'jjj:12,ggg:7,ccc:7,ddd:9,bbb:3'],\n",
       "  ['A', '8', '1997-09-28', 'a,e,f', 'fff:0,ddd:5,ccc:4'],\n",
       "  ['A', '6', '1999-07-29', 'f,e', 'hhh:6,jjj:13,eee:5,iii:7,ccc:3'],\n",
       "  ['A', '9', '1998-04-26', 'b,f', 'ccc:6,aaa:9,eee:5,ddd:0,bbb:3']],\n",
       " [['B', '5', '1998-05-02', 'f,e,a,c', 'ddd:2,ggg:5,ccc:6,jjj:12'],\n",
       "  ['B', '1', '1999-05-10', 'b,a', 'fff:3,hhh:1,ddd:2'],\n",
       "  ['B', '3', '1999-11-23', 'd,b,g,f', 'bbb:7,jjj:9,fff:5,iii:4,ggg:3,eee:3'],\n",
       "  ['B', '9', '1999-08-12', 'd,b', 'ccc:7,jjj:6,fff:7,ddd:3,aaa:2'],\n",
       "  ['B', '4', '1998-03-23', 'b,f,c', 'iii:7,ggg:3,ddd:0,jjj:8,hhh:5,ccc:1'],\n",
       "  ['B', '6', '1999-04-21', 'f,a,e', 'hhh:6,ccc:3,jjj:9,bbb:8,ddd:7'],\n",
       "  ['B', '8', '1997-05-21', 'c,a', 'ddd:5,jjj:17,iii:7,ccc:10,bbb:4']],\n",
       " [['C', '6', '1999-12-01', 'f,g,d,a', 'iii:6,ddd:5,eee:4,jjj:12'],\n",
       "  ['C', '7', '1998-01-17', 'd,c,f,b', 'hhh:6,eee:4,iii:0,fff:2,jjj:12'],\n",
       "  ['C', '5', '1998-12-28', 'd,e,a,c', 'bbb:7,iii:6,ggg:9'],\n",
       "  ['C', '0', '1999-08-22', 'f,c,a,g', 'eee:1,fff:4,aaa:2,ccc:7,ggg:10,ddd:6'],\n",
       "  ['C', '9', '1997-07-22', 'c,a,e,f', 'eee:3,fff:2,hhh:6']],\n",
       " [['D', '3', '1999-10-15', 'g,e,f,b', 'bbb:9,aaa:3,ccc:6,fff:4,eee:2'],\n",
       "  ['D', '8', '1997-12-01', 'f,e', 'ccc:8,eee:6,bbb:9,ddd:3'],\n",
       "  ['D', '5', '1998-08-12', 'g,a', 'hhh:4,jjj:5,ccc:9'],\n",
       "  ['D', '5', '1999-06-25', 'c,f,a', 'eee:3,jjj:17,ddd:7'],\n",
       "  ['D', '3', '1998-02-24', 'b,f', 'bbb:7,hhh:1,aaa:6,iii:4,fff:9,ddd:5'],\n",
       "  ['D', '7', '1999-02-29', 'a,f', 'aaa:1,fff:5,ddd:3']],\n",
       " [['E', '1', '1999-02-28', 'b,g,f', 'jjj:12,bbb:3,ddd:9,ggg:8,hhh:2'],\n",
       "  ['E', '2', '1997-04-12', 'd,e,a,f', 'eee:4,ccc:5,iii:9,fff:7,ggg:6,bbb:2'],\n",
       "  ['E', '8', '1998-11-01', 'c,f', 'aaa:8,ddd:5,jjj:12'],\n",
       "  ['E', '3', '1997-07-28', 'e,b,f', 'bbb:6,iii:3,hhh:5,fff:4,ggg:9,ddd:2'],\n",
       "  ['E', '8', '1999-08-24', 'e,c,f,a', 'ccc:1,iii:6,fff:9'],\n",
       "  ['E', '9', '1998-01-23', 'e,a', 'bbb:9,aaa:3,fff:1'],\n",
       "  ['E', '7', '1999-06-22', 'e,f', 'ddd:9,iii:2,aaa:4'],\n",
       "  ['E', '3', '1999-04-24', 'c,b,g', 'ccc:5,fff:8,iii:7'],\n",
       "  ['E', '4', '1997-07-26', 'c,d', 'jjj:6,ccc:4,aaa:1,hhh:9,iii:7,ggg:8'],\n",
       "  ['E', '6', '1997-09-24', 'e,d,c', 'fff:3,eee:6,iii:4,bbb:7,ddd:4,ccc:1'],\n",
       "  ['E', '5', '1999-06-22', 'c,a,g', 'ggg:6,hhh:3,ddd:9,ccc:10,jjj:7'],\n",
       "  ['E', '5', '1999-03-24', 'a,c', 'fff:3,ccc:1,ggg:3,eee:5'],\n",
       "  ['E', '1', '1999-09-28', 'e,d', 'fff:9,iii:2,eee:5'],\n",
       "  ['E', '5', '1998-01-26', 'f,a,d', 'hhh:8,ggg:3,jjj:5']]]"
      ]
     },
     "execution_count": 45,
     "metadata": {},
     "output_type": "execute_result"
    }
   ],
   "source": [
    "ListFilter=[list(filter(lambda x: x[0]==i, archivo)) for i in letras_ordenadas]\n",
    "ListFilter"
   ]
  },
  {
   "cell_type": "code",
   "execution_count": 46,
   "metadata": {},
   "outputs": [
    {
     "data": {
      "text/plain": [
       "[[2, 3, 7, 9, 9, 8, 6, 9],\n",
       " [5, 1, 3, 9, 4, 6, 8],\n",
       " [6, 7, 5, 0, 9],\n",
       " [3, 8, 5, 5, 3, 7],\n",
       " [1, 2, 8, 3, 8, 9, 7, 3, 4, 6, 5, 5, 1, 5]]"
      ]
     },
     "execution_count": 46,
     "metadata": {},
     "output_type": "execute_result"
    }
   ],
   "source": [
    "lista_valor"
   ]
  },
  {
   "cell_type": "code",
   "execution_count": 47,
   "metadata": {},
   "outputs": [
    {
     "data": {
      "text/plain": [
       "[[2, 3, 7, 9, 9, 8, 6, 9],\n",
       " [5, 1, 3, 9, 4, 6, 8],\n",
       " [6, 7, 5, 0, 9],\n",
       " [3, 8, 5, 5, 3, 7],\n",
       " [1, 2, 8, 3, 8, 9, 7, 3, 4, 6, 5, 5, 1, 5]]"
      ]
     },
     "execution_count": 47,
     "metadata": {},
     "output_type": "execute_result"
    }
   ],
   "source": [
    "NumbersFilter=[list(map(lambda x: int(x[1]),i)) for i in ListFilter]\n",
    "NumbersFilter"
   ]
  },
  {
   "cell_type": "code",
   "execution_count": 48,
   "metadata": {},
   "outputs": [
    {
     "data": {
      "text/plain": [
       "['A', 'B', 'C', 'D', 'E']"
      ]
     },
     "execution_count": 48,
     "metadata": {},
     "output_type": "execute_result"
    }
   ],
   "source": [
    "letras_ordenadas"
   ]
  },
  {
   "cell_type": "code",
   "execution_count": 49,
   "metadata": {},
   "outputs": [
    {
     "data": {
      "text/plain": [
       "[('A', 9, 2), ('B', 9, 1), ('C', 9, 0), ('D', 8, 3), ('E', 9, 1)]"
      ]
     },
     "execution_count": 49,
     "metadata": {},
     "output_type": "execute_result"
    }
   ],
   "source": [
    "listMaxMin=[(letras_ordenadas[i], max(NumbersFilter[i]), min(NumbersFilter[i])) for i in range(len(letras_ordenadas))]\n",
    "listMaxMin"
   ]
  },
  {
   "cell_type": "markdown",
   "metadata": {},
   "source": [
    "*Pregunta 6*"
   ]
  },
  {
   "cell_type": "code",
   "execution_count": 87,
   "metadata": {},
   "outputs": [
    {
     "data": {
      "text/plain": [
       "[0, 1, 2, 3, 10, 20]"
      ]
     },
     "execution_count": 87,
     "metadata": {},
     "output_type": "execute_result"
    }
   ],
   "source": [
    "[0,1,2,3] + [10,20]"
   ]
  },
  {
   "cell_type": "code",
   "execution_count": 52,
   "metadata": {},
   "outputs": [
    {
     "data": {
      "text/plain": [
       "['jjj:12,bbb:3,ddd:9,ggg:8,hhh:2',\n",
       " 'ccc:2,ddd:0,aaa:3,hhh:9',\n",
       " 'ddd:2,ggg:5,ccc:6,jjj:12',\n",
       " 'hhh:9,iii:5,eee:7,bbb:1',\n",
       " 'iii:6,ddd:5,eee:4,jjj:12',\n",
       " 'bbb:2,hhh:0,ccc:4,fff:1,aaa:7',\n",
       " 'aaa:5,fff:8,ddd:2,iii:0,jjj:7,ccc:1',\n",
       " 'fff:3,hhh:1,ddd:2',\n",
       " 'eee:4,ccc:5,iii:9,fff:7,ggg:6,bbb:2',\n",
       " 'bbb:7,jjj:9,fff:5,iii:4,ggg:3,eee:3',\n",
       " 'hhh:6,eee:4,iii:0,fff:2,jjj:12',\n",
       " 'bbb:7,iii:6,ggg:9',\n",
       " 'bbb:9,aaa:3,ccc:6,fff:4,eee:2',\n",
       " 'aaa:8,ddd:5,jjj:12',\n",
       " 'ccc:7,jjj:6,fff:7,ddd:3,aaa:2',\n",
       " 'ccc:8,eee:6,bbb:9,ddd:3',\n",
       " 'bbb:6,iii:3,hhh:5,fff:4,ggg:9,ddd:2',\n",
       " 'hhh:4,jjj:5,ccc:9',\n",
       " 'ccc:1,iii:6,fff:9',\n",
       " 'bbb:9,aaa:3,fff:1',\n",
       " 'ddd:9,iii:2,aaa:4',\n",
       " 'ccc:5,fff:8,iii:7',\n",
       " 'eee:3,jjj:17,ddd:7',\n",
       " 'jjj:12,ggg:7,ccc:7,ddd:9,bbb:3',\n",
       " 'jjj:6,ccc:4,aaa:1,hhh:9,iii:7,ggg:8',\n",
       " 'fff:3,eee:6,iii:4,bbb:7,ddd:4,ccc:1',\n",
       " 'fff:0,ddd:5,ccc:4',\n",
       " 'ggg:6,hhh:3,ddd:9,ccc:10,jjj:7',\n",
       " 'hhh:6,jjj:13,eee:5,iii:7,ccc:3',\n",
       " 'eee:1,fff:4,aaa:2,ccc:7,ggg:10,ddd:6',\n",
       " 'ccc:6,aaa:9,eee:5,ddd:0,bbb:3',\n",
       " 'bbb:7,hhh:1,aaa:6,iii:4,fff:9,ddd:5',\n",
       " 'fff:3,ccc:1,ggg:3,eee:5',\n",
       " 'iii:7,ggg:3,ddd:0,jjj:8,hhh:5,ccc:1',\n",
       " 'hhh:6,ccc:3,jjj:9,bbb:8,ddd:7',\n",
       " 'aaa:1,fff:5,ddd:3',\n",
       " 'ddd:5,jjj:17,iii:7,ccc:10,bbb:4',\n",
       " 'eee:3,fff:2,hhh:6',\n",
       " 'fff:9,iii:2,eee:5',\n",
       " 'hhh:8,ggg:3,jjj:5']"
      ]
     },
     "execution_count": 52,
     "metadata": {},
     "output_type": "execute_result"
    }
   ],
   "source": [
    "claves=list(map(lambda x: x[4], archivo))\n",
    "claves"
   ]
  },
  {
   "cell_type": "code",
   "execution_count": 53,
   "metadata": {},
   "outputs": [],
   "source": [
    "listKeys=[i.split(',') for i in claves]"
   ]
  },
  {
   "cell_type": "code",
   "execution_count": 54,
   "metadata": {},
   "outputs": [
    {
     "data": {
      "text/plain": [
       "[['jjj:12', 'bbb:3', 'ddd:9', 'ggg:8', 'hhh:2'],\n",
       " ['ccc:2', 'ddd:0', 'aaa:3', 'hhh:9'],\n",
       " ['ddd:2', 'ggg:5', 'ccc:6', 'jjj:12'],\n",
       " ['hhh:9', 'iii:5', 'eee:7', 'bbb:1'],\n",
       " ['iii:6', 'ddd:5', 'eee:4', 'jjj:12'],\n",
       " ['bbb:2', 'hhh:0', 'ccc:4', 'fff:1', 'aaa:7'],\n",
       " ['aaa:5', 'fff:8', 'ddd:2', 'iii:0', 'jjj:7', 'ccc:1'],\n",
       " ['fff:3', 'hhh:1', 'ddd:2'],\n",
       " ['eee:4', 'ccc:5', 'iii:9', 'fff:7', 'ggg:6', 'bbb:2'],\n",
       " ['bbb:7', 'jjj:9', 'fff:5', 'iii:4', 'ggg:3', 'eee:3'],\n",
       " ['hhh:6', 'eee:4', 'iii:0', 'fff:2', 'jjj:12'],\n",
       " ['bbb:7', 'iii:6', 'ggg:9'],\n",
       " ['bbb:9', 'aaa:3', 'ccc:6', 'fff:4', 'eee:2'],\n",
       " ['aaa:8', 'ddd:5', 'jjj:12'],\n",
       " ['ccc:7', 'jjj:6', 'fff:7', 'ddd:3', 'aaa:2'],\n",
       " ['ccc:8', 'eee:6', 'bbb:9', 'ddd:3'],\n",
       " ['bbb:6', 'iii:3', 'hhh:5', 'fff:4', 'ggg:9', 'ddd:2'],\n",
       " ['hhh:4', 'jjj:5', 'ccc:9'],\n",
       " ['ccc:1', 'iii:6', 'fff:9'],\n",
       " ['bbb:9', 'aaa:3', 'fff:1'],\n",
       " ['ddd:9', 'iii:2', 'aaa:4'],\n",
       " ['ccc:5', 'fff:8', 'iii:7'],\n",
       " ['eee:3', 'jjj:17', 'ddd:7'],\n",
       " ['jjj:12', 'ggg:7', 'ccc:7', 'ddd:9', 'bbb:3'],\n",
       " ['jjj:6', 'ccc:4', 'aaa:1', 'hhh:9', 'iii:7', 'ggg:8'],\n",
       " ['fff:3', 'eee:6', 'iii:4', 'bbb:7', 'ddd:4', 'ccc:1'],\n",
       " ['fff:0', 'ddd:5', 'ccc:4'],\n",
       " ['ggg:6', 'hhh:3', 'ddd:9', 'ccc:10', 'jjj:7'],\n",
       " ['hhh:6', 'jjj:13', 'eee:5', 'iii:7', 'ccc:3'],\n",
       " ['eee:1', 'fff:4', 'aaa:2', 'ccc:7', 'ggg:10', 'ddd:6'],\n",
       " ['ccc:6', 'aaa:9', 'eee:5', 'ddd:0', 'bbb:3'],\n",
       " ['bbb:7', 'hhh:1', 'aaa:6', 'iii:4', 'fff:9', 'ddd:5'],\n",
       " ['fff:3', 'ccc:1', 'ggg:3', 'eee:5'],\n",
       " ['iii:7', 'ggg:3', 'ddd:0', 'jjj:8', 'hhh:5', 'ccc:1'],\n",
       " ['hhh:6', 'ccc:3', 'jjj:9', 'bbb:8', 'ddd:7'],\n",
       " ['aaa:1', 'fff:5', 'ddd:3'],\n",
       " ['ddd:5', 'jjj:17', 'iii:7', 'ccc:10', 'bbb:4'],\n",
       " ['eee:3', 'fff:2', 'hhh:6'],\n",
       " ['fff:9', 'iii:2', 'eee:5'],\n",
       " ['hhh:8', 'ggg:3', 'jjj:5']]"
      ]
     },
     "execution_count": 54,
     "metadata": {},
     "output_type": "execute_result"
    }
   ],
   "source": [
    "listKeys"
   ]
  },
  {
   "cell_type": "code",
   "execution_count": 96,
   "metadata": {},
   "outputs": [],
   "source": [
    "def extraer(x):\n",
    "    for i in x:\n",
    "        yield i"
   ]
  },
  {
   "cell_type": "code",
   "execution_count": 102,
   "metadata": {},
   "outputs": [
    {
     "data": {
      "text/plain": [
       "<generator object extraer at 0x0000023320AF6CF0>"
      ]
     },
     "execution_count": 102,
     "metadata": {},
     "output_type": "execute_result"
    }
   ],
   "source": [
    "extraer(5)"
   ]
  },
  {
   "cell_type": "code",
   "execution_count": 97,
   "metadata": {},
   "outputs": [
    {
     "name": "stdout",
     "output_type": "stream",
     "text": [
      "1\n",
      "2\n",
      "3\n",
      "4\n",
      "5\n"
     ]
    }
   ],
   "source": [
    "for i in extraer([1,2,3,4,5]):\n",
    "    print(i)"
   ]
  },
  {
   "cell_type": "code",
   "execution_count": 106,
   "metadata": {},
   "outputs": [],
   "source": [
    "for i in listKeys:\n",
    "   for j in i:\n",
    "       lista.append(j) "
   ]
  },
  {
   "cell_type": "code",
   "execution_count": 55,
   "metadata": {},
   "outputs": [
    {
     "data": {
      "text/plain": [
       "['jjj:12',\n",
       " 'bbb:3',\n",
       " 'ddd:9',\n",
       " 'ggg:8',\n",
       " 'hhh:2',\n",
       " 'ccc:2',\n",
       " 'ddd:0',\n",
       " 'aaa:3',\n",
       " 'hhh:9',\n",
       " 'ddd:2',\n",
       " 'ggg:5',\n",
       " 'ccc:6',\n",
       " 'jjj:12',\n",
       " 'hhh:9',\n",
       " 'iii:5',\n",
       " 'eee:7',\n",
       " 'bbb:1',\n",
       " 'iii:6',\n",
       " 'ddd:5',\n",
       " 'eee:4',\n",
       " 'jjj:12',\n",
       " 'bbb:2',\n",
       " 'hhh:0',\n",
       " 'ccc:4',\n",
       " 'fff:1',\n",
       " 'aaa:7',\n",
       " 'aaa:5',\n",
       " 'fff:8',\n",
       " 'ddd:2',\n",
       " 'iii:0',\n",
       " 'jjj:7',\n",
       " 'ccc:1',\n",
       " 'fff:3',\n",
       " 'hhh:1',\n",
       " 'ddd:2',\n",
       " 'eee:4',\n",
       " 'ccc:5',\n",
       " 'iii:9',\n",
       " 'fff:7',\n",
       " 'ggg:6',\n",
       " 'bbb:2',\n",
       " 'bbb:7',\n",
       " 'jjj:9',\n",
       " 'fff:5',\n",
       " 'iii:4',\n",
       " 'ggg:3',\n",
       " 'eee:3',\n",
       " 'hhh:6',\n",
       " 'eee:4',\n",
       " 'iii:0',\n",
       " 'fff:2',\n",
       " 'jjj:12',\n",
       " 'bbb:7',\n",
       " 'iii:6',\n",
       " 'ggg:9',\n",
       " 'bbb:9',\n",
       " 'aaa:3',\n",
       " 'ccc:6',\n",
       " 'fff:4',\n",
       " 'eee:2',\n",
       " 'aaa:8',\n",
       " 'ddd:5',\n",
       " 'jjj:12',\n",
       " 'ccc:7',\n",
       " 'jjj:6',\n",
       " 'fff:7',\n",
       " 'ddd:3',\n",
       " 'aaa:2',\n",
       " 'ccc:8',\n",
       " 'eee:6',\n",
       " 'bbb:9',\n",
       " 'ddd:3',\n",
       " 'bbb:6',\n",
       " 'iii:3',\n",
       " 'hhh:5',\n",
       " 'fff:4',\n",
       " 'ggg:9',\n",
       " 'ddd:2',\n",
       " 'hhh:4',\n",
       " 'jjj:5',\n",
       " 'ccc:9',\n",
       " 'ccc:1',\n",
       " 'iii:6',\n",
       " 'fff:9',\n",
       " 'bbb:9',\n",
       " 'aaa:3',\n",
       " 'fff:1',\n",
       " 'ddd:9',\n",
       " 'iii:2',\n",
       " 'aaa:4',\n",
       " 'ccc:5',\n",
       " 'fff:8',\n",
       " 'iii:7',\n",
       " 'eee:3',\n",
       " 'jjj:17',\n",
       " 'ddd:7',\n",
       " 'jjj:12',\n",
       " 'ggg:7',\n",
       " 'ccc:7',\n",
       " 'ddd:9',\n",
       " 'bbb:3',\n",
       " 'jjj:6',\n",
       " 'ccc:4',\n",
       " 'aaa:1',\n",
       " 'hhh:9',\n",
       " 'iii:7',\n",
       " 'ggg:8',\n",
       " 'fff:3',\n",
       " 'eee:6',\n",
       " 'iii:4',\n",
       " 'bbb:7',\n",
       " 'ddd:4',\n",
       " 'ccc:1',\n",
       " 'fff:0',\n",
       " 'ddd:5',\n",
       " 'ccc:4',\n",
       " 'ggg:6',\n",
       " 'hhh:3',\n",
       " 'ddd:9',\n",
       " 'ccc:10',\n",
       " 'jjj:7',\n",
       " 'hhh:6',\n",
       " 'jjj:13',\n",
       " 'eee:5',\n",
       " 'iii:7',\n",
       " 'ccc:3',\n",
       " 'eee:1',\n",
       " 'fff:4',\n",
       " 'aaa:2',\n",
       " 'ccc:7',\n",
       " 'ggg:10',\n",
       " 'ddd:6',\n",
       " 'ccc:6',\n",
       " 'aaa:9',\n",
       " 'eee:5',\n",
       " 'ddd:0',\n",
       " 'bbb:3',\n",
       " 'bbb:7',\n",
       " 'hhh:1',\n",
       " 'aaa:6',\n",
       " 'iii:4',\n",
       " 'fff:9',\n",
       " 'ddd:5',\n",
       " 'fff:3',\n",
       " 'ccc:1',\n",
       " 'ggg:3',\n",
       " 'eee:5',\n",
       " 'iii:7',\n",
       " 'ggg:3',\n",
       " 'ddd:0',\n",
       " 'jjj:8',\n",
       " 'hhh:5',\n",
       " 'ccc:1',\n",
       " 'hhh:6',\n",
       " 'ccc:3',\n",
       " 'jjj:9',\n",
       " 'bbb:8',\n",
       " 'ddd:7',\n",
       " 'aaa:1',\n",
       " 'fff:5',\n",
       " 'ddd:3',\n",
       " 'ddd:5',\n",
       " 'jjj:17',\n",
       " 'iii:7',\n",
       " 'ccc:10',\n",
       " 'bbb:4',\n",
       " 'eee:3',\n",
       " 'fff:2',\n",
       " 'hhh:6',\n",
       " 'fff:9',\n",
       " 'iii:2',\n",
       " 'eee:5',\n",
       " 'hhh:8',\n",
       " 'ggg:3',\n",
       " 'jjj:5']"
      ]
     },
     "execution_count": 55,
     "metadata": {},
     "output_type": "execute_result"
    }
   ],
   "source": [
    "lista=[j for i in listKeys for j in i]\n",
    "lista"
   ]
  },
  {
   "cell_type": "code",
   "execution_count": 117,
   "metadata": {},
   "outputs": [
    {
     "data": {
      "text/plain": [
       "[['jjj', '12'],\n",
       " ['bbb', '3'],\n",
       " ['ddd', '9'],\n",
       " ['ggg', '8'],\n",
       " ['hhh', '2'],\n",
       " ['ccc', '2'],\n",
       " ['ddd', '0'],\n",
       " ['aaa', '3'],\n",
       " ['hhh', '9'],\n",
       " ['ddd', '2'],\n",
       " ['ggg', '5'],\n",
       " ['ccc', '6'],\n",
       " ['jjj', '12'],\n",
       " ['hhh', '9'],\n",
       " ['iii', '5'],\n",
       " ['eee', '7'],\n",
       " ['bbb', '1'],\n",
       " ['iii', '6'],\n",
       " ['ddd', '5'],\n",
       " ['eee', '4'],\n",
       " ['jjj', '12'],\n",
       " ['bbb', '2'],\n",
       " ['hhh', '0'],\n",
       " ['ccc', '4'],\n",
       " ['fff', '1'],\n",
       " ['aaa', '7'],\n",
       " ['aaa', '5'],\n",
       " ['fff', '8'],\n",
       " ['ddd', '2'],\n",
       " ['iii', '0'],\n",
       " ['jjj', '7'],\n",
       " ['ccc', '1'],\n",
       " ['fff', '3'],\n",
       " ['hhh', '1'],\n",
       " ['ddd', '2'],\n",
       " ['eee', '4'],\n",
       " ['ccc', '5'],\n",
       " ['iii', '9'],\n",
       " ['fff', '7'],\n",
       " ['ggg', '6'],\n",
       " ['bbb', '2'],\n",
       " ['bbb', '7'],\n",
       " ['jjj', '9'],\n",
       " ['fff', '5'],\n",
       " ['iii', '4'],\n",
       " ['ggg', '3'],\n",
       " ['eee', '3'],\n",
       " ['hhh', '6'],\n",
       " ['eee', '4'],\n",
       " ['iii', '0'],\n",
       " ['fff', '2'],\n",
       " ['jjj', '12'],\n",
       " ['bbb', '7'],\n",
       " ['iii', '6'],\n",
       " ['ggg', '9'],\n",
       " ['bbb', '9'],\n",
       " ['aaa', '3'],\n",
       " ['ccc', '6'],\n",
       " ['fff', '4'],\n",
       " ['eee', '2'],\n",
       " ['aaa', '8'],\n",
       " ['ddd', '5'],\n",
       " ['jjj', '12'],\n",
       " ['ccc', '7'],\n",
       " ['jjj', '6'],\n",
       " ['fff', '7'],\n",
       " ['ddd', '3'],\n",
       " ['aaa', '2'],\n",
       " ['ccc', '8'],\n",
       " ['eee', '6'],\n",
       " ['bbb', '9'],\n",
       " ['ddd', '3'],\n",
       " ['bbb', '6'],\n",
       " ['iii', '3'],\n",
       " ['hhh', '5'],\n",
       " ['fff', '4'],\n",
       " ['ggg', '9'],\n",
       " ['ddd', '2'],\n",
       " ['hhh', '4'],\n",
       " ['jjj', '5'],\n",
       " ['ccc', '9'],\n",
       " ['ccc', '1'],\n",
       " ['iii', '6'],\n",
       " ['fff', '9'],\n",
       " ['bbb', '9'],\n",
       " ['aaa', '3'],\n",
       " ['fff', '1'],\n",
       " ['ddd', '9'],\n",
       " ['iii', '2'],\n",
       " ['aaa', '4'],\n",
       " ['ccc', '5'],\n",
       " ['fff', '8'],\n",
       " ['iii', '7'],\n",
       " ['eee', '3'],\n",
       " ['jjj', '17'],\n",
       " ['ddd', '7'],\n",
       " ['jjj', '12'],\n",
       " ['ggg', '7'],\n",
       " ['ccc', '7'],\n",
       " ['ddd', '9'],\n",
       " ['bbb', '3'],\n",
       " ['jjj', '6'],\n",
       " ['ccc', '4'],\n",
       " ['aaa', '1'],\n",
       " ['hhh', '9'],\n",
       " ['iii', '7'],\n",
       " ['ggg', '8'],\n",
       " ['fff', '3'],\n",
       " ['eee', '6'],\n",
       " ['iii', '4'],\n",
       " ['bbb', '7'],\n",
       " ['ddd', '4'],\n",
       " ['ccc', '1'],\n",
       " ['fff', '0'],\n",
       " ['ddd', '5'],\n",
       " ['ccc', '4'],\n",
       " ['ggg', '6'],\n",
       " ['hhh', '3'],\n",
       " ['ddd', '9'],\n",
       " ['ccc', '10'],\n",
       " ['jjj', '7'],\n",
       " ['hhh', '6'],\n",
       " ['jjj', '13'],\n",
       " ['eee', '5'],\n",
       " ['iii', '7'],\n",
       " ['ccc', '3'],\n",
       " ['eee', '1'],\n",
       " ['fff', '4'],\n",
       " ['aaa', '2'],\n",
       " ['ccc', '7'],\n",
       " ['ggg', '10'],\n",
       " ['ddd', '6'],\n",
       " ['ccc', '6'],\n",
       " ['aaa', '9'],\n",
       " ['eee', '5'],\n",
       " ['ddd', '0'],\n",
       " ['bbb', '3'],\n",
       " ['bbb', '7'],\n",
       " ['hhh', '1'],\n",
       " ['aaa', '6'],\n",
       " ['iii', '4'],\n",
       " ['fff', '9'],\n",
       " ['ddd', '5'],\n",
       " ['fff', '3'],\n",
       " ['ccc', '1'],\n",
       " ['ggg', '3'],\n",
       " ['eee', '5'],\n",
       " ['iii', '7'],\n",
       " ['ggg', '3'],\n",
       " ['ddd', '0'],\n",
       " ['jjj', '8'],\n",
       " ['hhh', '5'],\n",
       " ['ccc', '1'],\n",
       " ['hhh', '6'],\n",
       " ['ccc', '3'],\n",
       " ['jjj', '9'],\n",
       " ['bbb', '8'],\n",
       " ['ddd', '7'],\n",
       " ['aaa', '1'],\n",
       " ['fff', '5'],\n",
       " ['ddd', '3'],\n",
       " ['ddd', '5'],\n",
       " ['jjj', '17'],\n",
       " ['iii', '7'],\n",
       " ['ccc', '10'],\n",
       " ['bbb', '4'],\n",
       " ['eee', '3'],\n",
       " ['fff', '2'],\n",
       " ['hhh', '6'],\n",
       " ['fff', '9'],\n",
       " ['iii', '2'],\n",
       " ['eee', '5'],\n",
       " ['hhh', '8'],\n",
       " ['ggg', '3'],\n",
       " ['jjj', '5']]"
      ]
     },
     "execution_count": 117,
     "metadata": {},
     "output_type": "execute_result"
    }
   ],
   "source": [
    "claveValor=[i.split(':') for i in lista]\n",
    "claveValor"
   ]
  },
  {
   "cell_type": "code",
   "execution_count": 119,
   "metadata": {},
   "outputs": [],
   "source": [
    "clave=list(set(list(map(lambda x: x[0], claveValor))))"
   ]
  },
  {
   "cell_type": "code",
   "execution_count": 121,
   "metadata": {},
   "outputs": [],
   "source": [
    "clave.sort()"
   ]
  },
  {
   "cell_type": "code",
   "execution_count": 122,
   "metadata": {},
   "outputs": [
    {
     "data": {
      "text/plain": [
       "['aaa', 'bbb', 'ccc', 'ddd', 'eee', 'fff', 'ggg', 'hhh', 'iii', 'jjj']"
      ]
     },
     "execution_count": 122,
     "metadata": {},
     "output_type": "execute_result"
    }
   ],
   "source": [
    "clave"
   ]
  },
  {
   "cell_type": "code",
   "execution_count": 124,
   "metadata": {},
   "outputs": [],
   "source": [
    "claveFilter=[list(filter(lambda x: x[0]==i, claveValor)) for i in clave]"
   ]
  },
  {
   "cell_type": "code",
   "execution_count": 125,
   "metadata": {},
   "outputs": [
    {
     "data": {
      "text/plain": [
       "[[['aaa', '3'],\n",
       "  ['aaa', '7'],\n",
       "  ['aaa', '5'],\n",
       "  ['aaa', '3'],\n",
       "  ['aaa', '8'],\n",
       "  ['aaa', '2'],\n",
       "  ['aaa', '3'],\n",
       "  ['aaa', '4'],\n",
       "  ['aaa', '1'],\n",
       "  ['aaa', '2'],\n",
       "  ['aaa', '9'],\n",
       "  ['aaa', '6'],\n",
       "  ['aaa', '1']],\n",
       " [['bbb', '3'],\n",
       "  ['bbb', '1'],\n",
       "  ['bbb', '2'],\n",
       "  ['bbb', '2'],\n",
       "  ['bbb', '7'],\n",
       "  ['bbb', '7'],\n",
       "  ['bbb', '9'],\n",
       "  ['bbb', '9'],\n",
       "  ['bbb', '6'],\n",
       "  ['bbb', '9'],\n",
       "  ['bbb', '3'],\n",
       "  ['bbb', '7'],\n",
       "  ['bbb', '3'],\n",
       "  ['bbb', '7'],\n",
       "  ['bbb', '8'],\n",
       "  ['bbb', '4']],\n",
       " [['ccc', '2'],\n",
       "  ['ccc', '6'],\n",
       "  ['ccc', '4'],\n",
       "  ['ccc', '1'],\n",
       "  ['ccc', '5'],\n",
       "  ['ccc', '6'],\n",
       "  ['ccc', '7'],\n",
       "  ['ccc', '8'],\n",
       "  ['ccc', '9'],\n",
       "  ['ccc', '1'],\n",
       "  ['ccc', '5'],\n",
       "  ['ccc', '7'],\n",
       "  ['ccc', '4'],\n",
       "  ['ccc', '1'],\n",
       "  ['ccc', '4'],\n",
       "  ['ccc', '10'],\n",
       "  ['ccc', '3'],\n",
       "  ['ccc', '7'],\n",
       "  ['ccc', '6'],\n",
       "  ['ccc', '1'],\n",
       "  ['ccc', '1'],\n",
       "  ['ccc', '3'],\n",
       "  ['ccc', '10']],\n",
       " [['ddd', '9'],\n",
       "  ['ddd', '0'],\n",
       "  ['ddd', '2'],\n",
       "  ['ddd', '5'],\n",
       "  ['ddd', '2'],\n",
       "  ['ddd', '2'],\n",
       "  ['ddd', '5'],\n",
       "  ['ddd', '3'],\n",
       "  ['ddd', '3'],\n",
       "  ['ddd', '2'],\n",
       "  ['ddd', '9'],\n",
       "  ['ddd', '7'],\n",
       "  ['ddd', '9'],\n",
       "  ['ddd', '4'],\n",
       "  ['ddd', '5'],\n",
       "  ['ddd', '9'],\n",
       "  ['ddd', '6'],\n",
       "  ['ddd', '0'],\n",
       "  ['ddd', '5'],\n",
       "  ['ddd', '0'],\n",
       "  ['ddd', '7'],\n",
       "  ['ddd', '3'],\n",
       "  ['ddd', '5']],\n",
       " [['eee', '7'],\n",
       "  ['eee', '4'],\n",
       "  ['eee', '4'],\n",
       "  ['eee', '3'],\n",
       "  ['eee', '4'],\n",
       "  ['eee', '2'],\n",
       "  ['eee', '6'],\n",
       "  ['eee', '3'],\n",
       "  ['eee', '6'],\n",
       "  ['eee', '5'],\n",
       "  ['eee', '1'],\n",
       "  ['eee', '5'],\n",
       "  ['eee', '5'],\n",
       "  ['eee', '3'],\n",
       "  ['eee', '5']],\n",
       " [['fff', '1'],\n",
       "  ['fff', '8'],\n",
       "  ['fff', '3'],\n",
       "  ['fff', '7'],\n",
       "  ['fff', '5'],\n",
       "  ['fff', '2'],\n",
       "  ['fff', '4'],\n",
       "  ['fff', '7'],\n",
       "  ['fff', '4'],\n",
       "  ['fff', '9'],\n",
       "  ['fff', '1'],\n",
       "  ['fff', '8'],\n",
       "  ['fff', '3'],\n",
       "  ['fff', '0'],\n",
       "  ['fff', '4'],\n",
       "  ['fff', '9'],\n",
       "  ['fff', '3'],\n",
       "  ['fff', '5'],\n",
       "  ['fff', '2'],\n",
       "  ['fff', '9']],\n",
       " [['ggg', '8'],\n",
       "  ['ggg', '5'],\n",
       "  ['ggg', '6'],\n",
       "  ['ggg', '3'],\n",
       "  ['ggg', '9'],\n",
       "  ['ggg', '9'],\n",
       "  ['ggg', '7'],\n",
       "  ['ggg', '8'],\n",
       "  ['ggg', '6'],\n",
       "  ['ggg', '10'],\n",
       "  ['ggg', '3'],\n",
       "  ['ggg', '3'],\n",
       "  ['ggg', '3']],\n",
       " [['hhh', '2'],\n",
       "  ['hhh', '9'],\n",
       "  ['hhh', '9'],\n",
       "  ['hhh', '0'],\n",
       "  ['hhh', '1'],\n",
       "  ['hhh', '6'],\n",
       "  ['hhh', '5'],\n",
       "  ['hhh', '4'],\n",
       "  ['hhh', '9'],\n",
       "  ['hhh', '3'],\n",
       "  ['hhh', '6'],\n",
       "  ['hhh', '1'],\n",
       "  ['hhh', '5'],\n",
       "  ['hhh', '6'],\n",
       "  ['hhh', '6'],\n",
       "  ['hhh', '8']],\n",
       " [['iii', '5'],\n",
       "  ['iii', '6'],\n",
       "  ['iii', '0'],\n",
       "  ['iii', '9'],\n",
       "  ['iii', '4'],\n",
       "  ['iii', '0'],\n",
       "  ['iii', '6'],\n",
       "  ['iii', '3'],\n",
       "  ['iii', '6'],\n",
       "  ['iii', '2'],\n",
       "  ['iii', '7'],\n",
       "  ['iii', '7'],\n",
       "  ['iii', '4'],\n",
       "  ['iii', '7'],\n",
       "  ['iii', '4'],\n",
       "  ['iii', '7'],\n",
       "  ['iii', '7'],\n",
       "  ['iii', '2']],\n",
       " [['jjj', '12'],\n",
       "  ['jjj', '12'],\n",
       "  ['jjj', '12'],\n",
       "  ['jjj', '7'],\n",
       "  ['jjj', '9'],\n",
       "  ['jjj', '12'],\n",
       "  ['jjj', '12'],\n",
       "  ['jjj', '6'],\n",
       "  ['jjj', '5'],\n",
       "  ['jjj', '17'],\n",
       "  ['jjj', '12'],\n",
       "  ['jjj', '6'],\n",
       "  ['jjj', '7'],\n",
       "  ['jjj', '13'],\n",
       "  ['jjj', '8'],\n",
       "  ['jjj', '9'],\n",
       "  ['jjj', '17'],\n",
       "  ['jjj', '5']]]"
      ]
     },
     "execution_count": 125,
     "metadata": {},
     "output_type": "execute_result"
    }
   ],
   "source": [
    "claveFilter"
   ]
  },
  {
   "cell_type": "code",
   "execution_count": 126,
   "metadata": {},
   "outputs": [
    {
     "data": {
      "text/plain": [
       "[[3, 7, 5, 3, 8, 2, 3, 4, 1, 2, 9, 6, 1],\n",
       " [3, 1, 2, 2, 7, 7, 9, 9, 6, 9, 3, 7, 3, 7, 8, 4],\n",
       " [2, 6, 4, 1, 5, 6, 7, 8, 9, 1, 5, 7, 4, 1, 4, 10, 3, 7, 6, 1, 1, 3, 10],\n",
       " [9, 0, 2, 5, 2, 2, 5, 3, 3, 2, 9, 7, 9, 4, 5, 9, 6, 0, 5, 0, 7, 3, 5],\n",
       " [7, 4, 4, 3, 4, 2, 6, 3, 6, 5, 1, 5, 5, 3, 5],\n",
       " [1, 8, 3, 7, 5, 2, 4, 7, 4, 9, 1, 8, 3, 0, 4, 9, 3, 5, 2, 9],\n",
       " [8, 5, 6, 3, 9, 9, 7, 8, 6, 10, 3, 3, 3],\n",
       " [2, 9, 9, 0, 1, 6, 5, 4, 9, 3, 6, 1, 5, 6, 6, 8],\n",
       " [5, 6, 0, 9, 4, 0, 6, 3, 6, 2, 7, 7, 4, 7, 4, 7, 7, 2],\n",
       " [12, 12, 12, 7, 9, 12, 12, 6, 5, 17, 12, 6, 7, 13, 8, 9, 17, 5]]"
      ]
     },
     "execution_count": 126,
     "metadata": {},
     "output_type": "execute_result"
    }
   ],
   "source": [
    "valor=[list(map(lambda x: int(x[1]), i)) for i in claveFilter]\n",
    "valor"
   ]
  },
  {
   "cell_type": "code",
   "execution_count": 127,
   "metadata": {},
   "outputs": [
    {
     "data": {
      "text/plain": [
       "[('aaa', 1, 9),\n",
       " ('bbb', 1, 9),\n",
       " ('ccc', 1, 10),\n",
       " ('ddd', 0, 9),\n",
       " ('eee', 1, 7),\n",
       " ('fff', 0, 9),\n",
       " ('ggg', 3, 10),\n",
       " ('hhh', 0, 9),\n",
       " ('iii', 0, 9),\n",
       " ('jjj', 5, 17)]"
      ]
     },
     "execution_count": 127,
     "metadata": {},
     "output_type": "execute_result"
    }
   ],
   "source": [
    "claveMinMax=[(clave[i], min(valor[i]), max(valor[i])) for i in range(len(clave))]\n",
    "claveMinMax"
   ]
  },
  {
   "cell_type": "markdown",
   "metadata": {},
   "source": [
    "*Pregunta 7*"
   ]
  },
  {
   "cell_type": "code",
   "execution_count": 129,
   "metadata": {},
   "outputs": [
    {
     "data": {
      "text/plain": [
       "[0, 1, 2, 3, 4, 5, 6, 7, 8, 9]"
      ]
     },
     "execution_count": 129,
     "metadata": {},
     "output_type": "execute_result"
    }
   ],
   "source": [
    "numeros=[i for i in range(10)]\n",
    "numeros"
   ]
  },
  {
   "cell_type": "code",
   "execution_count": 133,
   "metadata": {},
   "outputs": [
    {
     "data": {
      "text/plain": [
       "[[['C', '0', '1999-08-22', 'f,c,a,g', 'eee:1,fff:4,aaa:2,ccc:7,ggg:10,ddd:6']],\n",
       " [['E', '1', '1999-02-28', 'b,g,f', 'jjj:12,bbb:3,ddd:9,ggg:8,hhh:2'],\n",
       "  ['B', '1', '1999-05-10', 'b,a', 'fff:3,hhh:1,ddd:2'],\n",
       "  ['E', '1', '1999-09-28', 'e,d', 'fff:9,iii:2,eee:5']],\n",
       " [['A', '2', '1999-10-28', 'a,f,c', 'ccc:2,ddd:0,aaa:3,hhh:9'],\n",
       "  ['E', '2', '1997-04-12', 'd,e,a,f', 'eee:4,ccc:5,iii:9,fff:7,ggg:6,bbb:2']],\n",
       " [['A', '3', '1999-08-28', 'a,b', 'hhh:9,iii:5,eee:7,bbb:1'],\n",
       "  ['B', '3', '1999-11-23', 'd,b,g,f', 'bbb:7,jjj:9,fff:5,iii:4,ggg:3,eee:3'],\n",
       "  ['D', '3', '1999-10-15', 'g,e,f,b', 'bbb:9,aaa:3,ccc:6,fff:4,eee:2'],\n",
       "  ['E', '3', '1997-07-28', 'e,b,f', 'bbb:6,iii:3,hhh:5,fff:4,ggg:9,ddd:2'],\n",
       "  ['E', '3', '1999-04-24', 'c,b,g', 'ccc:5,fff:8,iii:7'],\n",
       "  ['D', '3', '1998-02-24', 'b,f', 'bbb:7,hhh:1,aaa:6,iii:4,fff:9,ddd:5']],\n",
       " [['E', '4', '1997-07-26', 'c,d', 'jjj:6,ccc:4,aaa:1,hhh:9,iii:7,ggg:8'],\n",
       "  ['B', '4', '1998-03-23', 'b,f,c', 'iii:7,ggg:3,ddd:0,jjj:8,hhh:5,ccc:1']],\n",
       " [['B', '5', '1998-05-02', 'f,e,a,c', 'ddd:2,ggg:5,ccc:6,jjj:12'],\n",
       "  ['C', '5', '1998-12-28', 'd,e,a,c', 'bbb:7,iii:6,ggg:9'],\n",
       "  ['D', '5', '1998-08-12', 'g,a', 'hhh:4,jjj:5,ccc:9'],\n",
       "  ['D', '5', '1999-06-25', 'c,f,a', 'eee:3,jjj:17,ddd:7'],\n",
       "  ['E', '5', '1999-06-22', 'c,a,g', 'ggg:6,hhh:3,ddd:9,ccc:10,jjj:7'],\n",
       "  ['E', '5', '1999-03-24', 'a,c', 'fff:3,ccc:1,ggg:3,eee:5'],\n",
       "  ['E', '5', '1998-01-26', 'f,a,d', 'hhh:8,ggg:3,jjj:5']],\n",
       " [['C', '6', '1999-12-01', 'f,g,d,a', 'iii:6,ddd:5,eee:4,jjj:12'],\n",
       "  ['E', '6', '1997-09-24', 'e,d,c', 'fff:3,eee:6,iii:4,bbb:7,ddd:4,ccc:1'],\n",
       "  ['A', '6', '1999-07-29', 'f,e', 'hhh:6,jjj:13,eee:5,iii:7,ccc:3'],\n",
       "  ['B', '6', '1999-04-21', 'f,a,e', 'hhh:6,ccc:3,jjj:9,bbb:8,ddd:7']],\n",
       " [['A', '7', '1998-07-28', 'c,d', 'bbb:2,hhh:0,ccc:4,fff:1,aaa:7'],\n",
       "  ['C', '7', '1998-01-17', 'd,c,f,b', 'hhh:6,eee:4,iii:0,fff:2,jjj:12'],\n",
       "  ['E', '7', '1999-06-22', 'e,f', 'ddd:9,iii:2,aaa:4'],\n",
       "  ['D', '7', '1999-02-29', 'a,f', 'aaa:1,fff:5,ddd:3']],\n",
       " [['E', '8', '1998-11-01', 'c,f', 'aaa:8,ddd:5,jjj:12'],\n",
       "  ['D', '8', '1997-12-01', 'f,e', 'ccc:8,eee:6,bbb:9,ddd:3'],\n",
       "  ['E', '8', '1999-08-24', 'e,c,f,a', 'ccc:1,iii:6,fff:9'],\n",
       "  ['A', '8', '1997-09-28', 'a,e,f', 'fff:0,ddd:5,ccc:4'],\n",
       "  ['B', '8', '1997-05-21', 'c,a', 'ddd:5,jjj:17,iii:7,ccc:10,bbb:4']],\n",
       " [['A', '9', '1997-02-28', 'g,d,a', 'aaa:5,fff:8,ddd:2,iii:0,jjj:7,ccc:1'],\n",
       "  ['B', '9', '1999-08-12', 'd,b', 'ccc:7,jjj:6,fff:7,ddd:3,aaa:2'],\n",
       "  ['E', '9', '1998-01-23', 'e,a', 'bbb:9,aaa:3,fff:1'],\n",
       "  ['A', '9', '1999-08-25', 'f,a,d', 'jjj:12,ggg:7,ccc:7,ddd:9,bbb:3'],\n",
       "  ['A', '9', '1998-04-26', 'b,f', 'ccc:6,aaa:9,eee:5,ddd:0,bbb:3'],\n",
       "  ['C', '9', '1997-07-22', 'c,a,e,f', 'eee:3,fff:2,hhh:6']]]"
      ]
     },
     "execution_count": 133,
     "metadata": {},
     "output_type": "execute_result"
    }
   ],
   "source": [
    "numerosFiltrado=[list(filter(lambda x: int(x[1])==i, archivo)) for i in numeros]\n",
    "numerosFiltrado"
   ]
  },
  {
   "cell_type": "code",
   "execution_count": 135,
   "metadata": {},
   "outputs": [
    {
     "data": {
      "text/plain": [
       "[['C'],\n",
       " ['E', 'B', 'E'],\n",
       " ['A', 'E'],\n",
       " ['A', 'B', 'D', 'E', 'E', 'D'],\n",
       " ['E', 'B'],\n",
       " ['B', 'C', 'D', 'D', 'E', 'E', 'E'],\n",
       " ['C', 'E', 'A', 'B'],\n",
       " ['A', 'C', 'E', 'D'],\n",
       " ['E', 'D', 'E', 'A', 'B'],\n",
       " ['A', 'B', 'E', 'A', 'A', 'C']]"
      ]
     },
     "execution_count": 135,
     "metadata": {},
     "output_type": "execute_result"
    }
   ],
   "source": [
    "listaLetras=[list(map(lambda x: x[0], i)) for i in numerosFiltrado]\n",
    "listaLetras\n"
   ]
  },
  {
   "cell_type": "code",
   "execution_count": 136,
   "metadata": {},
   "outputs": [
    {
     "data": {
      "text/plain": [
       "[(0, ['C']),\n",
       " (1, ['E', 'B', 'E']),\n",
       " (2, ['A', 'E']),\n",
       " (3, ['A', 'B', 'D', 'E', 'E', 'D']),\n",
       " (4, ['E', 'B']),\n",
       " (5, ['B', 'C', 'D', 'D', 'E', 'E', 'E']),\n",
       " (6, ['C', 'E', 'A', 'B']),\n",
       " (7, ['A', 'C', 'E', 'D']),\n",
       " (8, ['E', 'D', 'E', 'A', 'B']),\n",
       " (9, ['A', 'B', 'E', 'A', 'A', 'C'])]"
      ]
     },
     "execution_count": 136,
     "metadata": {},
     "output_type": "execute_result"
    }
   ],
   "source": [
    "pregunta7=[(numeros[i], listaLetras[i]) for i in range(len(numeros))]\n",
    "pregunta7"
   ]
  },
  {
   "cell_type": "markdown",
   "metadata": {},
   "source": [
    "*Pregunta 8*"
   ]
  },
  {
   "cell_type": "code",
   "execution_count": 155,
   "metadata": {},
   "outputs": [
    {
     "data": {
      "text/plain": [
       "[['C'],\n",
       " ['B', 'E'],\n",
       " ['A', 'E'],\n",
       " ['B', 'D', 'A', 'E'],\n",
       " ['B', 'E'],\n",
       " ['D', 'C', 'B', 'E'],\n",
       " ['B', 'C', 'A', 'E'],\n",
       " ['D', 'C', 'A', 'E'],\n",
       " ['B', 'D', 'A', 'E'],\n",
       " ['B', 'C', 'A', 'E']]"
      ]
     },
     "execution_count": 155,
     "metadata": {},
     "output_type": "execute_result"
    }
   ],
   "source": [
    "#listaSetLetras=[list(set(list(map(lambda x: x[0], i)))) for i in numerosFiltrado]\n",
    "listaSetLetras=[list(set(map(lambda x: x[0], i))) for i in numerosFiltrado]\n",
    "listaSetLetras"
   ]
  },
  {
   "cell_type": "code",
   "execution_count": 156,
   "metadata": {},
   "outputs": [
    {
     "data": {
      "text/plain": [
       "[['C'],\n",
       " ['B', 'E'],\n",
       " ['A', 'E'],\n",
       " ['A', 'B', 'D', 'E'],\n",
       " ['B', 'E'],\n",
       " ['B', 'C', 'D', 'E'],\n",
       " ['A', 'B', 'C', 'E'],\n",
       " ['A', 'C', 'D', 'E'],\n",
       " ['A', 'B', 'D', 'E'],\n",
       " ['A', 'B', 'C', 'E']]"
      ]
     },
     "execution_count": 156,
     "metadata": {},
     "output_type": "execute_result"
    }
   ],
   "source": [
    "listaLetras=[list(map(lambda x: x.sort(),listaSetLetras))]\n",
    "listaSetLetras"
   ]
  },
  {
   "cell_type": "code",
   "execution_count": 157,
   "metadata": {},
   "outputs": [
    {
     "data": {
      "text/plain": [
       "[(0, ['C']),\n",
       " (1, ['B', 'E']),\n",
       " (2, ['A', 'E']),\n",
       " (3, ['A', 'B', 'D', 'E']),\n",
       " (4, ['B', 'E']),\n",
       " (5, ['B', 'C', 'D', 'E']),\n",
       " (6, ['A', 'B', 'C', 'E']),\n",
       " (7, ['A', 'C', 'D', 'E']),\n",
       " (8, ['A', 'B', 'D', 'E']),\n",
       " (9, ['A', 'B', 'C', 'E'])]"
      ]
     },
     "execution_count": 157,
     "metadata": {},
     "output_type": "execute_result"
    }
   ],
   "source": [
    "pregunta8=[(numeros[i], listaSetLetras[i]) for i in range(len(numeros))]\n",
    "pregunta8"
   ]
  },
  {
   "cell_type": "markdown",
   "metadata": {},
   "source": [
    "*Pregunta 9*"
   ]
  },
  {
   "cell_type": "code",
   "execution_count": 163,
   "metadata": {},
   "outputs": [
    {
     "data": {
      "text/plain": [
       "[['jjj', '12'],\n",
       " ['bbb', '3'],\n",
       " ['ddd', '9'],\n",
       " ['ggg', '8'],\n",
       " ['hhh', '2'],\n",
       " ['ccc', '2'],\n",
       " ['ddd', '0'],\n",
       " ['aaa', '3'],\n",
       " ['hhh', '9'],\n",
       " ['ddd', '2'],\n",
       " ['ggg', '5'],\n",
       " ['ccc', '6'],\n",
       " ['jjj', '12'],\n",
       " ['hhh', '9'],\n",
       " ['iii', '5'],\n",
       " ['eee', '7'],\n",
       " ['bbb', '1'],\n",
       " ['iii', '6'],\n",
       " ['ddd', '5'],\n",
       " ['eee', '4'],\n",
       " ['jjj', '12'],\n",
       " ['bbb', '2'],\n",
       " ['hhh', '0'],\n",
       " ['ccc', '4'],\n",
       " ['fff', '1'],\n",
       " ['aaa', '7'],\n",
       " ['aaa', '5'],\n",
       " ['fff', '8'],\n",
       " ['ddd', '2'],\n",
       " ['iii', '0'],\n",
       " ['jjj', '7'],\n",
       " ['ccc', '1'],\n",
       " ['fff', '3'],\n",
       " ['hhh', '1'],\n",
       " ['ddd', '2'],\n",
       " ['eee', '4'],\n",
       " ['ccc', '5'],\n",
       " ['iii', '9'],\n",
       " ['fff', '7'],\n",
       " ['ggg', '6'],\n",
       " ['bbb', '2'],\n",
       " ['bbb', '7'],\n",
       " ['jjj', '9'],\n",
       " ['fff', '5'],\n",
       " ['iii', '4'],\n",
       " ['ggg', '3'],\n",
       " ['eee', '3'],\n",
       " ['hhh', '6'],\n",
       " ['eee', '4'],\n",
       " ['iii', '0'],\n",
       " ['fff', '2'],\n",
       " ['jjj', '12'],\n",
       " ['bbb', '7'],\n",
       " ['iii', '6'],\n",
       " ['ggg', '9'],\n",
       " ['bbb', '9'],\n",
       " ['aaa', '3'],\n",
       " ['ccc', '6'],\n",
       " ['fff', '4'],\n",
       " ['eee', '2'],\n",
       " ['aaa', '8'],\n",
       " ['ddd', '5'],\n",
       " ['jjj', '12'],\n",
       " ['ccc', '7'],\n",
       " ['jjj', '6'],\n",
       " ['fff', '7'],\n",
       " ['ddd', '3'],\n",
       " ['aaa', '2'],\n",
       " ['ccc', '8'],\n",
       " ['eee', '6'],\n",
       " ['bbb', '9'],\n",
       " ['ddd', '3'],\n",
       " ['bbb', '6'],\n",
       " ['iii', '3'],\n",
       " ['hhh', '5'],\n",
       " ['fff', '4'],\n",
       " ['ggg', '9'],\n",
       " ['ddd', '2'],\n",
       " ['hhh', '4'],\n",
       " ['jjj', '5'],\n",
       " ['ccc', '9'],\n",
       " ['ccc', '1'],\n",
       " ['iii', '6'],\n",
       " ['fff', '9'],\n",
       " ['bbb', '9'],\n",
       " ['aaa', '3'],\n",
       " ['fff', '1'],\n",
       " ['ddd', '9'],\n",
       " ['iii', '2'],\n",
       " ['aaa', '4'],\n",
       " ['ccc', '5'],\n",
       " ['fff', '8'],\n",
       " ['iii', '7'],\n",
       " ['eee', '3'],\n",
       " ['jjj', '17'],\n",
       " ['ddd', '7'],\n",
       " ['jjj', '12'],\n",
       " ['ggg', '7'],\n",
       " ['ccc', '7'],\n",
       " ['ddd', '9'],\n",
       " ['bbb', '3'],\n",
       " ['jjj', '6'],\n",
       " ['ccc', '4'],\n",
       " ['aaa', '1'],\n",
       " ['hhh', '9'],\n",
       " ['iii', '7'],\n",
       " ['ggg', '8'],\n",
       " ['fff', '3'],\n",
       " ['eee', '6'],\n",
       " ['iii', '4'],\n",
       " ['bbb', '7'],\n",
       " ['ddd', '4'],\n",
       " ['ccc', '1'],\n",
       " ['fff', '0'],\n",
       " ['ddd', '5'],\n",
       " ['ccc', '4'],\n",
       " ['ggg', '6'],\n",
       " ['hhh', '3'],\n",
       " ['ddd', '9'],\n",
       " ['ccc', '10'],\n",
       " ['jjj', '7'],\n",
       " ['hhh', '6'],\n",
       " ['jjj', '13'],\n",
       " ['eee', '5'],\n",
       " ['iii', '7'],\n",
       " ['ccc', '3'],\n",
       " ['eee', '1'],\n",
       " ['fff', '4'],\n",
       " ['aaa', '2'],\n",
       " ['ccc', '7'],\n",
       " ['ggg', '10'],\n",
       " ['ddd', '6'],\n",
       " ['ccc', '6'],\n",
       " ['aaa', '9'],\n",
       " ['eee', '5'],\n",
       " ['ddd', '0'],\n",
       " ['bbb', '3'],\n",
       " ['bbb', '7'],\n",
       " ['hhh', '1'],\n",
       " ['aaa', '6'],\n",
       " ['iii', '4'],\n",
       " ['fff', '9'],\n",
       " ['ddd', '5'],\n",
       " ['fff', '3'],\n",
       " ['ccc', '1'],\n",
       " ['ggg', '3'],\n",
       " ['eee', '5'],\n",
       " ['iii', '7'],\n",
       " ['ggg', '3'],\n",
       " ['ddd', '0'],\n",
       " ['jjj', '8'],\n",
       " ['hhh', '5'],\n",
       " ['ccc', '1'],\n",
       " ['hhh', '6'],\n",
       " ['ccc', '3'],\n",
       " ['jjj', '9'],\n",
       " ['bbb', '8'],\n",
       " ['ddd', '7'],\n",
       " ['aaa', '1'],\n",
       " ['fff', '5'],\n",
       " ['ddd', '3'],\n",
       " ['ddd', '5'],\n",
       " ['jjj', '17'],\n",
       " ['iii', '7'],\n",
       " ['ccc', '10'],\n",
       " ['bbb', '4'],\n",
       " ['eee', '3'],\n",
       " ['fff', '2'],\n",
       " ['hhh', '6'],\n",
       " ['fff', '9'],\n",
       " ['iii', '2'],\n",
       " ['eee', '5'],\n",
       " ['hhh', '8'],\n",
       " ['ggg', '3'],\n",
       " ['jjj', '5']]"
      ]
     },
     "execution_count": 163,
     "metadata": {},
     "output_type": "execute_result"
    }
   ],
   "source": [
    "claveValor"
   ]
  },
  {
   "cell_type": "code",
   "execution_count": 165,
   "metadata": {},
   "outputs": [
    {
     "data": {
      "text/plain": [
       "['jjj',\n",
       " 'bbb',\n",
       " 'ddd',\n",
       " 'ggg',\n",
       " 'hhh',\n",
       " 'ccc',\n",
       " 'ddd',\n",
       " 'aaa',\n",
       " 'hhh',\n",
       " 'ddd',\n",
       " 'ggg',\n",
       " 'ccc',\n",
       " 'jjj',\n",
       " 'hhh',\n",
       " 'iii',\n",
       " 'eee',\n",
       " 'bbb',\n",
       " 'iii',\n",
       " 'ddd',\n",
       " 'eee',\n",
       " 'jjj',\n",
       " 'bbb',\n",
       " 'hhh',\n",
       " 'ccc',\n",
       " 'fff',\n",
       " 'aaa',\n",
       " 'aaa',\n",
       " 'fff',\n",
       " 'ddd',\n",
       " 'iii',\n",
       " 'jjj',\n",
       " 'ccc',\n",
       " 'fff',\n",
       " 'hhh',\n",
       " 'ddd',\n",
       " 'eee',\n",
       " 'ccc',\n",
       " 'iii',\n",
       " 'fff',\n",
       " 'ggg',\n",
       " 'bbb',\n",
       " 'bbb',\n",
       " 'jjj',\n",
       " 'fff',\n",
       " 'iii',\n",
       " 'ggg',\n",
       " 'eee',\n",
       " 'hhh',\n",
       " 'eee',\n",
       " 'iii',\n",
       " 'fff',\n",
       " 'jjj',\n",
       " 'bbb',\n",
       " 'iii',\n",
       " 'ggg',\n",
       " 'bbb',\n",
       " 'aaa',\n",
       " 'ccc',\n",
       " 'fff',\n",
       " 'eee',\n",
       " 'aaa',\n",
       " 'ddd',\n",
       " 'jjj',\n",
       " 'ccc',\n",
       " 'jjj',\n",
       " 'fff',\n",
       " 'ddd',\n",
       " 'aaa',\n",
       " 'ccc',\n",
       " 'eee',\n",
       " 'bbb',\n",
       " 'ddd',\n",
       " 'bbb',\n",
       " 'iii',\n",
       " 'hhh',\n",
       " 'fff',\n",
       " 'ggg',\n",
       " 'ddd',\n",
       " 'hhh',\n",
       " 'jjj',\n",
       " 'ccc',\n",
       " 'ccc',\n",
       " 'iii',\n",
       " 'fff',\n",
       " 'bbb',\n",
       " 'aaa',\n",
       " 'fff',\n",
       " 'ddd',\n",
       " 'iii',\n",
       " 'aaa',\n",
       " 'ccc',\n",
       " 'fff',\n",
       " 'iii',\n",
       " 'eee',\n",
       " 'jjj',\n",
       " 'ddd',\n",
       " 'jjj',\n",
       " 'ggg',\n",
       " 'ccc',\n",
       " 'ddd',\n",
       " 'bbb',\n",
       " 'jjj',\n",
       " 'ccc',\n",
       " 'aaa',\n",
       " 'hhh',\n",
       " 'iii',\n",
       " 'ggg',\n",
       " 'fff',\n",
       " 'eee',\n",
       " 'iii',\n",
       " 'bbb',\n",
       " 'ddd',\n",
       " 'ccc',\n",
       " 'fff',\n",
       " 'ddd',\n",
       " 'ccc',\n",
       " 'ggg',\n",
       " 'hhh',\n",
       " 'ddd',\n",
       " 'ccc',\n",
       " 'jjj',\n",
       " 'hhh',\n",
       " 'jjj',\n",
       " 'eee',\n",
       " 'iii',\n",
       " 'ccc',\n",
       " 'eee',\n",
       " 'fff',\n",
       " 'aaa',\n",
       " 'ccc',\n",
       " 'ggg',\n",
       " 'ddd',\n",
       " 'ccc',\n",
       " 'aaa',\n",
       " 'eee',\n",
       " 'ddd',\n",
       " 'bbb',\n",
       " 'bbb',\n",
       " 'hhh',\n",
       " 'aaa',\n",
       " 'iii',\n",
       " 'fff',\n",
       " 'ddd',\n",
       " 'fff',\n",
       " 'ccc',\n",
       " 'ggg',\n",
       " 'eee',\n",
       " 'iii',\n",
       " 'ggg',\n",
       " 'ddd',\n",
       " 'jjj',\n",
       " 'hhh',\n",
       " 'ccc',\n",
       " 'hhh',\n",
       " 'ccc',\n",
       " 'jjj',\n",
       " 'bbb',\n",
       " 'ddd',\n",
       " 'aaa',\n",
       " 'fff',\n",
       " 'ddd',\n",
       " 'ddd',\n",
       " 'jjj',\n",
       " 'iii',\n",
       " 'ccc',\n",
       " 'bbb',\n",
       " 'eee',\n",
       " 'fff',\n",
       " 'hhh',\n",
       " 'fff',\n",
       " 'iii',\n",
       " 'eee',\n",
       " 'hhh',\n",
       " 'ggg',\n",
       " 'jjj']"
      ]
     },
     "execution_count": 165,
     "metadata": {},
     "output_type": "execute_result"
    }
   ],
   "source": [
    "campoClave=[i[0] for i in claveValor]\n",
    "campoClave"
   ]
  },
  {
   "cell_type": "code",
   "execution_count": 167,
   "metadata": {},
   "outputs": [
    {
     "data": {
      "text/plain": [
       "['aaa', 'bbb', 'ccc', 'ddd', 'eee', 'fff', 'ggg', 'hhh', 'iii', 'jjj']"
      ]
     },
     "execution_count": 167,
     "metadata": {},
     "output_type": "execute_result"
    }
   ],
   "source": [
    "clave"
   ]
  },
  {
   "cell_type": "code",
   "execution_count": 170,
   "metadata": {},
   "outputs": [
    {
     "data": {
      "text/plain": [
       "{'aaa': 13,\n",
       " 'bbb': 16,\n",
       " 'ccc': 23,\n",
       " 'ddd': 23,\n",
       " 'eee': 15,\n",
       " 'fff': 20,\n",
       " 'ggg': 13,\n",
       " 'hhh': 16,\n",
       " 'iii': 18,\n",
       " 'jjj': 18}"
      ]
     },
     "execution_count": 170,
     "metadata": {},
     "output_type": "execute_result"
    }
   ],
   "source": [
    "pregunta9={i:campoClave.count(i) for i in clave}\n",
    "pregunta9"
   ]
  },
  {
   "cell_type": "markdown",
   "metadata": {},
   "source": [
    "*Pregunta 10*"
   ]
  },
  {
   "cell_type": "code",
   "execution_count": 171,
   "metadata": {},
   "outputs": [
    {
     "data": {
      "text/plain": [
       "[['E', '1', '1999-02-28', 'b,g,f', 'jjj:12,bbb:3,ddd:9,ggg:8,hhh:2'],\n",
       " ['A', '2', '1999-10-28', 'a,f,c', 'ccc:2,ddd:0,aaa:3,hhh:9'],\n",
       " ['B', '5', '1998-05-02', 'f,e,a,c', 'ddd:2,ggg:5,ccc:6,jjj:12'],\n",
       " ['A', '3', '1999-08-28', 'a,b', 'hhh:9,iii:5,eee:7,bbb:1'],\n",
       " ['C', '6', '1999-12-01', 'f,g,d,a', 'iii:6,ddd:5,eee:4,jjj:12'],\n",
       " ['A', '7', '1998-07-28', 'c,d', 'bbb:2,hhh:0,ccc:4,fff:1,aaa:7'],\n",
       " ['A', '9', '1997-02-28', 'g,d,a', 'aaa:5,fff:8,ddd:2,iii:0,jjj:7,ccc:1'],\n",
       " ['B', '1', '1999-05-10', 'b,a', 'fff:3,hhh:1,ddd:2'],\n",
       " ['E', '2', '1997-04-12', 'd,e,a,f', 'eee:4,ccc:5,iii:9,fff:7,ggg:6,bbb:2'],\n",
       " ['B', '3', '1999-11-23', 'd,b,g,f', 'bbb:7,jjj:9,fff:5,iii:4,ggg:3,eee:3'],\n",
       " ['C', '7', '1998-01-17', 'd,c,f,b', 'hhh:6,eee:4,iii:0,fff:2,jjj:12'],\n",
       " ['C', '5', '1998-12-28', 'd,e,a,c', 'bbb:7,iii:6,ggg:9'],\n",
       " ['D', '3', '1999-10-15', 'g,e,f,b', 'bbb:9,aaa:3,ccc:6,fff:4,eee:2'],\n",
       " ['E', '8', '1998-11-01', 'c,f', 'aaa:8,ddd:5,jjj:12'],\n",
       " ['B', '9', '1999-08-12', 'd,b', 'ccc:7,jjj:6,fff:7,ddd:3,aaa:2'],\n",
       " ['D', '8', '1997-12-01', 'f,e', 'ccc:8,eee:6,bbb:9,ddd:3'],\n",
       " ['E', '3', '1997-07-28', 'e,b,f', 'bbb:6,iii:3,hhh:5,fff:4,ggg:9,ddd:2'],\n",
       " ['D', '5', '1998-08-12', 'g,a', 'hhh:4,jjj:5,ccc:9'],\n",
       " ['E', '8', '1999-08-24', 'e,c,f,a', 'ccc:1,iii:6,fff:9'],\n",
       " ['E', '9', '1998-01-23', 'e,a', 'bbb:9,aaa:3,fff:1'],\n",
       " ['E', '7', '1999-06-22', 'e,f', 'ddd:9,iii:2,aaa:4'],\n",
       " ['E', '3', '1999-04-24', 'c,b,g', 'ccc:5,fff:8,iii:7'],\n",
       " ['D', '5', '1999-06-25', 'c,f,a', 'eee:3,jjj:17,ddd:7'],\n",
       " ['A', '9', '1999-08-25', 'f,a,d', 'jjj:12,ggg:7,ccc:7,ddd:9,bbb:3'],\n",
       " ['E', '4', '1997-07-26', 'c,d', 'jjj:6,ccc:4,aaa:1,hhh:9,iii:7,ggg:8'],\n",
       " ['E', '6', '1997-09-24', 'e,d,c', 'fff:3,eee:6,iii:4,bbb:7,ddd:4,ccc:1'],\n",
       " ['A', '8', '1997-09-28', 'a,e,f', 'fff:0,ddd:5,ccc:4'],\n",
       " ['E', '5', '1999-06-22', 'c,a,g', 'ggg:6,hhh:3,ddd:9,ccc:10,jjj:7'],\n",
       " ['A', '6', '1999-07-29', 'f,e', 'hhh:6,jjj:13,eee:5,iii:7,ccc:3'],\n",
       " ['C', '0', '1999-08-22', 'f,c,a,g', 'eee:1,fff:4,aaa:2,ccc:7,ggg:10,ddd:6'],\n",
       " ['A', '9', '1998-04-26', 'b,f', 'ccc:6,aaa:9,eee:5,ddd:0,bbb:3'],\n",
       " ['D', '3', '1998-02-24', 'b,f', 'bbb:7,hhh:1,aaa:6,iii:4,fff:9,ddd:5'],\n",
       " ['E', '5', '1999-03-24', 'a,c', 'fff:3,ccc:1,ggg:3,eee:5'],\n",
       " ['B', '4', '1998-03-23', 'b,f,c', 'iii:7,ggg:3,ddd:0,jjj:8,hhh:5,ccc:1'],\n",
       " ['B', '6', '1999-04-21', 'f,a,e', 'hhh:6,ccc:3,jjj:9,bbb:8,ddd:7'],\n",
       " ['D', '7', '1999-02-29', 'a,f', 'aaa:1,fff:5,ddd:3'],\n",
       " ['B', '8', '1997-05-21', 'c,a', 'ddd:5,jjj:17,iii:7,ccc:10,bbb:4'],\n",
       " ['C', '9', '1997-07-22', 'c,a,e,f', 'eee:3,fff:2,hhh:6'],\n",
       " ['E', '1', '1999-09-28', 'e,d', 'fff:9,iii:2,eee:5'],\n",
       " ['E', '5', '1998-01-26', 'f,a,d', 'hhh:8,ggg:3,jjj:5']]"
      ]
     },
     "execution_count": 171,
     "metadata": {},
     "output_type": "execute_result"
    }
   ],
   "source": [
    "archivo"
   ]
  },
  {
   "cell_type": "code",
   "execution_count": 174,
   "metadata": {},
   "outputs": [
    {
     "data": {
      "text/plain": [
       "[('E', 3, 5),\n",
       " ('A', 3, 4),\n",
       " ('B', 4, 4),\n",
       " ('A', 2, 4),\n",
       " ('C', 4, 4),\n",
       " ('A', 2, 5),\n",
       " ('A', 3, 6),\n",
       " ('B', 2, 3),\n",
       " ('E', 4, 6),\n",
       " ('B', 4, 6),\n",
       " ('C', 4, 5),\n",
       " ('C', 4, 3),\n",
       " ('D', 4, 5),\n",
       " ('E', 2, 3),\n",
       " ('B', 2, 5),\n",
       " ('D', 2, 4),\n",
       " ('E', 3, 6),\n",
       " ('D', 2, 3),\n",
       " ('E', 4, 3),\n",
       " ('E', 2, 3),\n",
       " ('E', 2, 3),\n",
       " ('E', 3, 3),\n",
       " ('D', 3, 3),\n",
       " ('A', 3, 5),\n",
       " ('E', 2, 6),\n",
       " ('E', 3, 6),\n",
       " ('A', 3, 3),\n",
       " ('E', 3, 5),\n",
       " ('A', 2, 5),\n",
       " ('C', 4, 6),\n",
       " ('A', 2, 5),\n",
       " ('D', 2, 6),\n",
       " ('E', 2, 4),\n",
       " ('B', 3, 6),\n",
       " ('B', 3, 5),\n",
       " ('D', 2, 3),\n",
       " ('B', 2, 5),\n",
       " ('C', 4, 3),\n",
       " ('E', 2, 3),\n",
       " ('E', 3, 3)]"
      ]
     },
     "execution_count": 174,
     "metadata": {},
     "output_type": "execute_result"
    }
   ],
   "source": [
    "pregunta10=[(i[0], len(i[3].split(',')), len(i[4].split(','))) for i in archivo]\n",
    "pregunta10"
   ]
  },
  {
   "cell_type": "markdown",
   "metadata": {},
   "source": [
    "*Pregunta 11*\n",
    "\n",
    "Se puede implementar esta función para obtener lista de componentes, también se usa en la pregunta 6"
   ]
  },
  {
   "cell_type": "code",
   "execution_count": 176,
   "metadata": {},
   "outputs": [
    {
     "data": {
      "text/plain": [
       "['b',\n",
       " 'g',\n",
       " 'f',\n",
       " 'a',\n",
       " 'f',\n",
       " 'c',\n",
       " 'f',\n",
       " 'e',\n",
       " 'a',\n",
       " 'c',\n",
       " 'a',\n",
       " 'b',\n",
       " 'f',\n",
       " 'g',\n",
       " 'd',\n",
       " 'a',\n",
       " 'c',\n",
       " 'd',\n",
       " 'g',\n",
       " 'd',\n",
       " 'a',\n",
       " 'b',\n",
       " 'a',\n",
       " 'd',\n",
       " 'e',\n",
       " 'a',\n",
       " 'f',\n",
       " 'd',\n",
       " 'b',\n",
       " 'g',\n",
       " 'f',\n",
       " 'd',\n",
       " 'c',\n",
       " 'f',\n",
       " 'b',\n",
       " 'd',\n",
       " 'e',\n",
       " 'a',\n",
       " 'c',\n",
       " 'g',\n",
       " 'e',\n",
       " 'f',\n",
       " 'b',\n",
       " 'c',\n",
       " 'f',\n",
       " 'd',\n",
       " 'b',\n",
       " 'f',\n",
       " 'e',\n",
       " 'e',\n",
       " 'b',\n",
       " 'f',\n",
       " 'g',\n",
       " 'a',\n",
       " 'e',\n",
       " 'c',\n",
       " 'f',\n",
       " 'a',\n",
       " 'e',\n",
       " 'a',\n",
       " 'e',\n",
       " 'f',\n",
       " 'c',\n",
       " 'b',\n",
       " 'g',\n",
       " 'c',\n",
       " 'f',\n",
       " 'a',\n",
       " 'f',\n",
       " 'a',\n",
       " 'd',\n",
       " 'c',\n",
       " 'd',\n",
       " 'e',\n",
       " 'd',\n",
       " 'c',\n",
       " 'a',\n",
       " 'e',\n",
       " 'f',\n",
       " 'c',\n",
       " 'a',\n",
       " 'g',\n",
       " 'f',\n",
       " 'e',\n",
       " 'f',\n",
       " 'c',\n",
       " 'a',\n",
       " 'g',\n",
       " 'b',\n",
       " 'f',\n",
       " 'b',\n",
       " 'f',\n",
       " 'a',\n",
       " 'c',\n",
       " 'b',\n",
       " 'f',\n",
       " 'c',\n",
       " 'f',\n",
       " 'a',\n",
       " 'e',\n",
       " 'a',\n",
       " 'f',\n",
       " 'c',\n",
       " 'a',\n",
       " 'c',\n",
       " 'a',\n",
       " 'e',\n",
       " 'f',\n",
       " 'e',\n",
       " 'd',\n",
       " 'f',\n",
       " 'a',\n",
       " 'd']"
      ]
     },
     "execution_count": 176,
     "metadata": {},
     "output_type": "execute_result"
    }
   ],
   "source": [
    "letras_c_3=[]\n",
    "for x in archivo:\n",
    "    for y in x[3].split(','):\n",
    "        letras_c_3.append(y)\n",
    "letras_c_3"
   ]
  },
  {
   "cell_type": "code",
   "execution_count": 183,
   "metadata": {},
   "outputs": [
    {
     "data": {
      "text/plain": [
       "['a', 'b', 'c', 'd', 'e', 'f', 'g']"
      ]
     },
     "execution_count": 183,
     "metadata": {},
     "output_type": "execute_result"
    }
   ],
   "source": [
    "c_3_unicas=list(set(letras_c_3))\n",
    "c_3_unicas.sort()\n",
    "c_3_unicas"
   ]
  },
  {
   "cell_type": "code",
   "execution_count": 190,
   "metadata": {},
   "outputs": [
    {
     "data": {
      "text/plain": [
       "[[['A', '2', '1999-10-28', 'a,f,c', 'ccc:2,ddd:0,aaa:3,hhh:9'],\n",
       "  ['B', '5', '1998-05-02', 'f,e,a,c', 'ddd:2,ggg:5,ccc:6,jjj:12'],\n",
       "  ['A', '3', '1999-08-28', 'a,b', 'hhh:9,iii:5,eee:7,bbb:1'],\n",
       "  ['C', '6', '1999-12-01', 'f,g,d,a', 'iii:6,ddd:5,eee:4,jjj:12'],\n",
       "  ['A', '9', '1997-02-28', 'g,d,a', 'aaa:5,fff:8,ddd:2,iii:0,jjj:7,ccc:1'],\n",
       "  ['B', '1', '1999-05-10', 'b,a', 'fff:3,hhh:1,ddd:2'],\n",
       "  ['E', '2', '1997-04-12', 'd,e,a,f', 'eee:4,ccc:5,iii:9,fff:7,ggg:6,bbb:2'],\n",
       "  ['C', '5', '1998-12-28', 'd,e,a,c', 'bbb:7,iii:6,ggg:9'],\n",
       "  ['D', '5', '1998-08-12', 'g,a', 'hhh:4,jjj:5,ccc:9'],\n",
       "  ['E', '8', '1999-08-24', 'e,c,f,a', 'ccc:1,iii:6,fff:9'],\n",
       "  ['E', '9', '1998-01-23', 'e,a', 'bbb:9,aaa:3,fff:1'],\n",
       "  ['D', '5', '1999-06-25', 'c,f,a', 'eee:3,jjj:17,ddd:7'],\n",
       "  ['A', '9', '1999-08-25', 'f,a,d', 'jjj:12,ggg:7,ccc:7,ddd:9,bbb:3'],\n",
       "  ['A', '8', '1997-09-28', 'a,e,f', 'fff:0,ddd:5,ccc:4'],\n",
       "  ['E', '5', '1999-06-22', 'c,a,g', 'ggg:6,hhh:3,ddd:9,ccc:10,jjj:7'],\n",
       "  ['C', '0', '1999-08-22', 'f,c,a,g', 'eee:1,fff:4,aaa:2,ccc:7,ggg:10,ddd:6'],\n",
       "  ['E', '5', '1999-03-24', 'a,c', 'fff:3,ccc:1,ggg:3,eee:5'],\n",
       "  ['B', '6', '1999-04-21', 'f,a,e', 'hhh:6,ccc:3,jjj:9,bbb:8,ddd:7'],\n",
       "  ['D', '7', '1999-02-29', 'a,f', 'aaa:1,fff:5,ddd:3'],\n",
       "  ['B', '8', '1997-05-21', 'c,a', 'ddd:5,jjj:17,iii:7,ccc:10,bbb:4'],\n",
       "  ['C', '9', '1997-07-22', 'c,a,e,f', 'eee:3,fff:2,hhh:6'],\n",
       "  ['E', '5', '1998-01-26', 'f,a,d', 'hhh:8,ggg:3,jjj:5']],\n",
       " [['E', '1', '1999-02-28', 'b,g,f', 'jjj:12,bbb:3,ddd:9,ggg:8,hhh:2'],\n",
       "  ['A', '3', '1999-08-28', 'a,b', 'hhh:9,iii:5,eee:7,bbb:1'],\n",
       "  ['B', '1', '1999-05-10', 'b,a', 'fff:3,hhh:1,ddd:2'],\n",
       "  ['B', '3', '1999-11-23', 'd,b,g,f', 'bbb:7,jjj:9,fff:5,iii:4,ggg:3,eee:3'],\n",
       "  ['C', '7', '1998-01-17', 'd,c,f,b', 'hhh:6,eee:4,iii:0,fff:2,jjj:12'],\n",
       "  ['D', '3', '1999-10-15', 'g,e,f,b', 'bbb:9,aaa:3,ccc:6,fff:4,eee:2'],\n",
       "  ['B', '9', '1999-08-12', 'd,b', 'ccc:7,jjj:6,fff:7,ddd:3,aaa:2'],\n",
       "  ['E', '3', '1997-07-28', 'e,b,f', 'bbb:6,iii:3,hhh:5,fff:4,ggg:9,ddd:2'],\n",
       "  ['E', '3', '1999-04-24', 'c,b,g', 'ccc:5,fff:8,iii:7'],\n",
       "  ['A', '9', '1998-04-26', 'b,f', 'ccc:6,aaa:9,eee:5,ddd:0,bbb:3'],\n",
       "  ['D', '3', '1998-02-24', 'b,f', 'bbb:7,hhh:1,aaa:6,iii:4,fff:9,ddd:5'],\n",
       "  ['B', '4', '1998-03-23', 'b,f,c', 'iii:7,ggg:3,ddd:0,jjj:8,hhh:5,ccc:1']],\n",
       " [['A', '2', '1999-10-28', 'a,f,c', 'ccc:2,ddd:0,aaa:3,hhh:9'],\n",
       "  ['B', '5', '1998-05-02', 'f,e,a,c', 'ddd:2,ggg:5,ccc:6,jjj:12'],\n",
       "  ['A', '7', '1998-07-28', 'c,d', 'bbb:2,hhh:0,ccc:4,fff:1,aaa:7'],\n",
       "  ['C', '7', '1998-01-17', 'd,c,f,b', 'hhh:6,eee:4,iii:0,fff:2,jjj:12'],\n",
       "  ['C', '5', '1998-12-28', 'd,e,a,c', 'bbb:7,iii:6,ggg:9'],\n",
       "  ['E', '8', '1998-11-01', 'c,f', 'aaa:8,ddd:5,jjj:12'],\n",
       "  ['E', '8', '1999-08-24', 'e,c,f,a', 'ccc:1,iii:6,fff:9'],\n",
       "  ['E', '3', '1999-04-24', 'c,b,g', 'ccc:5,fff:8,iii:7'],\n",
       "  ['D', '5', '1999-06-25', 'c,f,a', 'eee:3,jjj:17,ddd:7'],\n",
       "  ['E', '4', '1997-07-26', 'c,d', 'jjj:6,ccc:4,aaa:1,hhh:9,iii:7,ggg:8'],\n",
       "  ['E', '6', '1997-09-24', 'e,d,c', 'fff:3,eee:6,iii:4,bbb:7,ddd:4,ccc:1'],\n",
       "  ['E', '5', '1999-06-22', 'c,a,g', 'ggg:6,hhh:3,ddd:9,ccc:10,jjj:7'],\n",
       "  ['C', '0', '1999-08-22', 'f,c,a,g', 'eee:1,fff:4,aaa:2,ccc:7,ggg:10,ddd:6'],\n",
       "  ['E', '5', '1999-03-24', 'a,c', 'fff:3,ccc:1,ggg:3,eee:5'],\n",
       "  ['B', '4', '1998-03-23', 'b,f,c', 'iii:7,ggg:3,ddd:0,jjj:8,hhh:5,ccc:1'],\n",
       "  ['B', '8', '1997-05-21', 'c,a', 'ddd:5,jjj:17,iii:7,ccc:10,bbb:4'],\n",
       "  ['C', '9', '1997-07-22', 'c,a,e,f', 'eee:3,fff:2,hhh:6']],\n",
       " [['C', '6', '1999-12-01', 'f,g,d,a', 'iii:6,ddd:5,eee:4,jjj:12'],\n",
       "  ['A', '7', '1998-07-28', 'c,d', 'bbb:2,hhh:0,ccc:4,fff:1,aaa:7'],\n",
       "  ['A', '9', '1997-02-28', 'g,d,a', 'aaa:5,fff:8,ddd:2,iii:0,jjj:7,ccc:1'],\n",
       "  ['E', '2', '1997-04-12', 'd,e,a,f', 'eee:4,ccc:5,iii:9,fff:7,ggg:6,bbb:2'],\n",
       "  ['B', '3', '1999-11-23', 'd,b,g,f', 'bbb:7,jjj:9,fff:5,iii:4,ggg:3,eee:3'],\n",
       "  ['C', '7', '1998-01-17', 'd,c,f,b', 'hhh:6,eee:4,iii:0,fff:2,jjj:12'],\n",
       "  ['C', '5', '1998-12-28', 'd,e,a,c', 'bbb:7,iii:6,ggg:9'],\n",
       "  ['B', '9', '1999-08-12', 'd,b', 'ccc:7,jjj:6,fff:7,ddd:3,aaa:2'],\n",
       "  ['A', '9', '1999-08-25', 'f,a,d', 'jjj:12,ggg:7,ccc:7,ddd:9,bbb:3'],\n",
       "  ['E', '4', '1997-07-26', 'c,d', 'jjj:6,ccc:4,aaa:1,hhh:9,iii:7,ggg:8'],\n",
       "  ['E', '6', '1997-09-24', 'e,d,c', 'fff:3,eee:6,iii:4,bbb:7,ddd:4,ccc:1'],\n",
       "  ['E', '1', '1999-09-28', 'e,d', 'fff:9,iii:2,eee:5'],\n",
       "  ['E', '5', '1998-01-26', 'f,a,d', 'hhh:8,ggg:3,jjj:5']],\n",
       " [['B', '5', '1998-05-02', 'f,e,a,c', 'ddd:2,ggg:5,ccc:6,jjj:12'],\n",
       "  ['E', '2', '1997-04-12', 'd,e,a,f', 'eee:4,ccc:5,iii:9,fff:7,ggg:6,bbb:2'],\n",
       "  ['C', '5', '1998-12-28', 'd,e,a,c', 'bbb:7,iii:6,ggg:9'],\n",
       "  ['D', '3', '1999-10-15', 'g,e,f,b', 'bbb:9,aaa:3,ccc:6,fff:4,eee:2'],\n",
       "  ['D', '8', '1997-12-01', 'f,e', 'ccc:8,eee:6,bbb:9,ddd:3'],\n",
       "  ['E', '3', '1997-07-28', 'e,b,f', 'bbb:6,iii:3,hhh:5,fff:4,ggg:9,ddd:2'],\n",
       "  ['E', '8', '1999-08-24', 'e,c,f,a', 'ccc:1,iii:6,fff:9'],\n",
       "  ['E', '9', '1998-01-23', 'e,a', 'bbb:9,aaa:3,fff:1'],\n",
       "  ['E', '7', '1999-06-22', 'e,f', 'ddd:9,iii:2,aaa:4'],\n",
       "  ['E', '6', '1997-09-24', 'e,d,c', 'fff:3,eee:6,iii:4,bbb:7,ddd:4,ccc:1'],\n",
       "  ['A', '8', '1997-09-28', 'a,e,f', 'fff:0,ddd:5,ccc:4'],\n",
       "  ['A', '6', '1999-07-29', 'f,e', 'hhh:6,jjj:13,eee:5,iii:7,ccc:3'],\n",
       "  ['B', '6', '1999-04-21', 'f,a,e', 'hhh:6,ccc:3,jjj:9,bbb:8,ddd:7'],\n",
       "  ['C', '9', '1997-07-22', 'c,a,e,f', 'eee:3,fff:2,hhh:6'],\n",
       "  ['E', '1', '1999-09-28', 'e,d', 'fff:9,iii:2,eee:5']],\n",
       " [['E', '1', '1999-02-28', 'b,g,f', 'jjj:12,bbb:3,ddd:9,ggg:8,hhh:2'],\n",
       "  ['A', '2', '1999-10-28', 'a,f,c', 'ccc:2,ddd:0,aaa:3,hhh:9'],\n",
       "  ['B', '5', '1998-05-02', 'f,e,a,c', 'ddd:2,ggg:5,ccc:6,jjj:12'],\n",
       "  ['C', '6', '1999-12-01', 'f,g,d,a', 'iii:6,ddd:5,eee:4,jjj:12'],\n",
       "  ['E', '2', '1997-04-12', 'd,e,a,f', 'eee:4,ccc:5,iii:9,fff:7,ggg:6,bbb:2'],\n",
       "  ['B', '3', '1999-11-23', 'd,b,g,f', 'bbb:7,jjj:9,fff:5,iii:4,ggg:3,eee:3'],\n",
       "  ['C', '7', '1998-01-17', 'd,c,f,b', 'hhh:6,eee:4,iii:0,fff:2,jjj:12'],\n",
       "  ['D', '3', '1999-10-15', 'g,e,f,b', 'bbb:9,aaa:3,ccc:6,fff:4,eee:2'],\n",
       "  ['E', '8', '1998-11-01', 'c,f', 'aaa:8,ddd:5,jjj:12'],\n",
       "  ['D', '8', '1997-12-01', 'f,e', 'ccc:8,eee:6,bbb:9,ddd:3'],\n",
       "  ['E', '3', '1997-07-28', 'e,b,f', 'bbb:6,iii:3,hhh:5,fff:4,ggg:9,ddd:2'],\n",
       "  ['E', '8', '1999-08-24', 'e,c,f,a', 'ccc:1,iii:6,fff:9'],\n",
       "  ['E', '7', '1999-06-22', 'e,f', 'ddd:9,iii:2,aaa:4'],\n",
       "  ['D', '5', '1999-06-25', 'c,f,a', 'eee:3,jjj:17,ddd:7'],\n",
       "  ['A', '9', '1999-08-25', 'f,a,d', 'jjj:12,ggg:7,ccc:7,ddd:9,bbb:3'],\n",
       "  ['A', '8', '1997-09-28', 'a,e,f', 'fff:0,ddd:5,ccc:4'],\n",
       "  ['A', '6', '1999-07-29', 'f,e', 'hhh:6,jjj:13,eee:5,iii:7,ccc:3'],\n",
       "  ['C', '0', '1999-08-22', 'f,c,a,g', 'eee:1,fff:4,aaa:2,ccc:7,ggg:10,ddd:6'],\n",
       "  ['A', '9', '1998-04-26', 'b,f', 'ccc:6,aaa:9,eee:5,ddd:0,bbb:3'],\n",
       "  ['D', '3', '1998-02-24', 'b,f', 'bbb:7,hhh:1,aaa:6,iii:4,fff:9,ddd:5'],\n",
       "  ['B', '4', '1998-03-23', 'b,f,c', 'iii:7,ggg:3,ddd:0,jjj:8,hhh:5,ccc:1'],\n",
       "  ['B', '6', '1999-04-21', 'f,a,e', 'hhh:6,ccc:3,jjj:9,bbb:8,ddd:7'],\n",
       "  ['D', '7', '1999-02-29', 'a,f', 'aaa:1,fff:5,ddd:3'],\n",
       "  ['C', '9', '1997-07-22', 'c,a,e,f', 'eee:3,fff:2,hhh:6'],\n",
       "  ['E', '5', '1998-01-26', 'f,a,d', 'hhh:8,ggg:3,jjj:5']],\n",
       " [['E', '1', '1999-02-28', 'b,g,f', 'jjj:12,bbb:3,ddd:9,ggg:8,hhh:2'],\n",
       "  ['C', '6', '1999-12-01', 'f,g,d,a', 'iii:6,ddd:5,eee:4,jjj:12'],\n",
       "  ['A', '9', '1997-02-28', 'g,d,a', 'aaa:5,fff:8,ddd:2,iii:0,jjj:7,ccc:1'],\n",
       "  ['B', '3', '1999-11-23', 'd,b,g,f', 'bbb:7,jjj:9,fff:5,iii:4,ggg:3,eee:3'],\n",
       "  ['D', '3', '1999-10-15', 'g,e,f,b', 'bbb:9,aaa:3,ccc:6,fff:4,eee:2'],\n",
       "  ['D', '5', '1998-08-12', 'g,a', 'hhh:4,jjj:5,ccc:9'],\n",
       "  ['E', '3', '1999-04-24', 'c,b,g', 'ccc:5,fff:8,iii:7'],\n",
       "  ['E', '5', '1999-06-22', 'c,a,g', 'ggg:6,hhh:3,ddd:9,ccc:10,jjj:7'],\n",
       "  ['C', '0', '1999-08-22', 'f,c,a,g', 'eee:1,fff:4,aaa:2,ccc:7,ggg:10,ddd:6']]]"
      ]
     },
     "execution_count": 190,
     "metadata": {},
     "output_type": "execute_result"
    }
   ],
   "source": [
    "c_3_filter=[list(filter(lambda x: i in x[3], archivo)) for i in c_3_unicas]\n",
    "c_3_filter"
   ]
  },
  {
   "cell_type": "code",
   "execution_count": 192,
   "metadata": {},
   "outputs": [
    {
     "data": {
      "text/plain": [
       "[[2, 5, 3, 6, 9, 1, 2, 5, 5, 8, 9, 5, 9, 8, 5, 0, 5, 6, 7, 8, 9, 5],\n",
       " [1, 3, 1, 3, 7, 3, 9, 3, 3, 9, 3, 4],\n",
       " [2, 5, 7, 7, 5, 8, 8, 3, 5, 4, 6, 5, 0, 5, 4, 8, 9],\n",
       " [6, 7, 9, 2, 3, 7, 5, 9, 9, 4, 6, 1, 5],\n",
       " [5, 2, 5, 3, 8, 3, 8, 9, 7, 6, 8, 6, 6, 9, 1],\n",
       " [1, 2, 5, 6, 2, 3, 7, 3, 8, 8, 3, 8, 7, 5, 9, 8, 6, 0, 9, 3, 4, 6, 7, 9, 5],\n",
       " [1, 6, 9, 3, 3, 5, 3, 5, 0]]"
      ]
     },
     "execution_count": 192,
     "metadata": {},
     "output_type": "execute_result"
    }
   ],
   "source": [
    "c_3_numeros=[list(map(lambda x: int(x[1]), i)) for i in c_3_filter]\n",
    "c_3_numeros"
   ]
  },
  {
   "cell_type": "code",
   "execution_count": 193,
   "metadata": {},
   "outputs": [
    {
     "data": {
      "text/plain": [
       "{'a': 122, 'b': 49, 'c': 91, 'd': 73, 'e': 86, 'f': 134, 'g': 35}"
      ]
     },
     "execution_count": 193,
     "metadata": {},
     "output_type": "execute_result"
    }
   ],
   "source": [
    "pregunta11={c_3_unicas[i]: sum(c_3_numeros[i]) for i in range(len(c_3_unicas))}\n",
    "pregunta11"
   ]
  },
  {
   "cell_type": "markdown",
   "metadata": {},
   "source": [
    "*Pregunta 12*"
   ]
  },
  {
   "cell_type": "code",
   "execution_count": 194,
   "metadata": {},
   "outputs": [
    {
     "data": {
      "text/plain": [
       "[[3, 7, 5, 3, 8, 2, 3, 4, 1, 2, 9, 6, 1],\n",
       " [3, 1, 2, 2, 7, 7, 9, 9, 6, 9, 3, 7, 3, 7, 8, 4],\n",
       " [2, 6, 4, 1, 5, 6, 7, 8, 9, 1, 5, 7, 4, 1, 4, 10, 3, 7, 6, 1, 1, 3, 10],\n",
       " [9, 0, 2, 5, 2, 2, 5, 3, 3, 2, 9, 7, 9, 4, 5, 9, 6, 0, 5, 0, 7, 3, 5],\n",
       " [7, 4, 4, 3, 4, 2, 6, 3, 6, 5, 1, 5, 5, 3, 5],\n",
       " [1, 8, 3, 7, 5, 2, 4, 7, 4, 9, 1, 8, 3, 0, 4, 9, 3, 5, 2, 9],\n",
       " [8, 5, 6, 3, 9, 9, 7, 8, 6, 10, 3, 3, 3],\n",
       " [2, 9, 9, 0, 1, 6, 5, 4, 9, 3, 6, 1, 5, 6, 6, 8],\n",
       " [5, 6, 0, 9, 4, 0, 6, 3, 6, 2, 7, 7, 4, 7, 4, 7, 7, 2],\n",
       " [12, 12, 12, 7, 9, 12, 12, 6, 5, 17, 12, 6, 7, 13, 8, 9, 17, 5]]"
      ]
     },
     "execution_count": 194,
     "metadata": {},
     "output_type": "execute_result"
    }
   ],
   "source": [
    "valor"
   ]
  },
  {
   "cell_type": "code",
   "execution_count": 195,
   "metadata": {},
   "outputs": [
    {
     "data": {
      "text/plain": [
       "['A', 'B', 'C', 'D', 'E']"
      ]
     },
     "execution_count": 195,
     "metadata": {},
     "output_type": "execute_result"
    }
   ],
   "source": [
    "letras_ordenadas"
   ]
  },
  {
   "cell_type": "code",
   "execution_count": 196,
   "metadata": {},
   "outputs": [
    {
     "data": {
      "text/plain": [
       "[[['A', '2', '1999-10-28', 'a,f,c', 'ccc:2,ddd:0,aaa:3,hhh:9'],\n",
       "  ['A', '3', '1999-08-28', 'a,b', 'hhh:9,iii:5,eee:7,bbb:1'],\n",
       "  ['A', '7', '1998-07-28', 'c,d', 'bbb:2,hhh:0,ccc:4,fff:1,aaa:7'],\n",
       "  ['A', '9', '1997-02-28', 'g,d,a', 'aaa:5,fff:8,ddd:2,iii:0,jjj:7,ccc:1'],\n",
       "  ['A', '9', '1999-08-25', 'f,a,d', 'jjj:12,ggg:7,ccc:7,ddd:9,bbb:3'],\n",
       "  ['A', '8', '1997-09-28', 'a,e,f', 'fff:0,ddd:5,ccc:4'],\n",
       "  ['A', '6', '1999-07-29', 'f,e', 'hhh:6,jjj:13,eee:5,iii:7,ccc:3'],\n",
       "  ['A', '9', '1998-04-26', 'b,f', 'ccc:6,aaa:9,eee:5,ddd:0,bbb:3']],\n",
       " [['B', '5', '1998-05-02', 'f,e,a,c', 'ddd:2,ggg:5,ccc:6,jjj:12'],\n",
       "  ['B', '1', '1999-05-10', 'b,a', 'fff:3,hhh:1,ddd:2'],\n",
       "  ['B', '3', '1999-11-23', 'd,b,g,f', 'bbb:7,jjj:9,fff:5,iii:4,ggg:3,eee:3'],\n",
       "  ['B', '9', '1999-08-12', 'd,b', 'ccc:7,jjj:6,fff:7,ddd:3,aaa:2'],\n",
       "  ['B', '4', '1998-03-23', 'b,f,c', 'iii:7,ggg:3,ddd:0,jjj:8,hhh:5,ccc:1'],\n",
       "  ['B', '6', '1999-04-21', 'f,a,e', 'hhh:6,ccc:3,jjj:9,bbb:8,ddd:7'],\n",
       "  ['B', '8', '1997-05-21', 'c,a', 'ddd:5,jjj:17,iii:7,ccc:10,bbb:4']],\n",
       " [['C', '6', '1999-12-01', 'f,g,d,a', 'iii:6,ddd:5,eee:4,jjj:12'],\n",
       "  ['C', '7', '1998-01-17', 'd,c,f,b', 'hhh:6,eee:4,iii:0,fff:2,jjj:12'],\n",
       "  ['C', '5', '1998-12-28', 'd,e,a,c', 'bbb:7,iii:6,ggg:9'],\n",
       "  ['C', '0', '1999-08-22', 'f,c,a,g', 'eee:1,fff:4,aaa:2,ccc:7,ggg:10,ddd:6'],\n",
       "  ['C', '9', '1997-07-22', 'c,a,e,f', 'eee:3,fff:2,hhh:6']],\n",
       " [['D', '3', '1999-10-15', 'g,e,f,b', 'bbb:9,aaa:3,ccc:6,fff:4,eee:2'],\n",
       "  ['D', '8', '1997-12-01', 'f,e', 'ccc:8,eee:6,bbb:9,ddd:3'],\n",
       "  ['D', '5', '1998-08-12', 'g,a', 'hhh:4,jjj:5,ccc:9'],\n",
       "  ['D', '5', '1999-06-25', 'c,f,a', 'eee:3,jjj:17,ddd:7'],\n",
       "  ['D', '3', '1998-02-24', 'b,f', 'bbb:7,hhh:1,aaa:6,iii:4,fff:9,ddd:5'],\n",
       "  ['D', '7', '1999-02-29', 'a,f', 'aaa:1,fff:5,ddd:3']],\n",
       " [['E', '1', '1999-02-28', 'b,g,f', 'jjj:12,bbb:3,ddd:9,ggg:8,hhh:2'],\n",
       "  ['E', '2', '1997-04-12', 'd,e,a,f', 'eee:4,ccc:5,iii:9,fff:7,ggg:6,bbb:2'],\n",
       "  ['E', '8', '1998-11-01', 'c,f', 'aaa:8,ddd:5,jjj:12'],\n",
       "  ['E', '3', '1997-07-28', 'e,b,f', 'bbb:6,iii:3,hhh:5,fff:4,ggg:9,ddd:2'],\n",
       "  ['E', '8', '1999-08-24', 'e,c,f,a', 'ccc:1,iii:6,fff:9'],\n",
       "  ['E', '9', '1998-01-23', 'e,a', 'bbb:9,aaa:3,fff:1'],\n",
       "  ['E', '7', '1999-06-22', 'e,f', 'ddd:9,iii:2,aaa:4'],\n",
       "  ['E', '3', '1999-04-24', 'c,b,g', 'ccc:5,fff:8,iii:7'],\n",
       "  ['E', '4', '1997-07-26', 'c,d', 'jjj:6,ccc:4,aaa:1,hhh:9,iii:7,ggg:8'],\n",
       "  ['E', '6', '1997-09-24', 'e,d,c', 'fff:3,eee:6,iii:4,bbb:7,ddd:4,ccc:1'],\n",
       "  ['E', '5', '1999-06-22', 'c,a,g', 'ggg:6,hhh:3,ddd:9,ccc:10,jjj:7'],\n",
       "  ['E', '5', '1999-03-24', 'a,c', 'fff:3,ccc:1,ggg:3,eee:5'],\n",
       "  ['E', '1', '1999-09-28', 'e,d', 'fff:9,iii:2,eee:5'],\n",
       "  ['E', '5', '1998-01-26', 'f,a,d', 'hhh:8,ggg:3,jjj:5']]]"
      ]
     },
     "execution_count": 196,
     "metadata": {},
     "output_type": "execute_result"
    }
   ],
   "source": [
    "archivo_filtrado_letras= [list(filter(lambda x: x[0]==i, archivo)) for i in letras_ordenadas]\n",
    "archivo_filtrado_letras"
   ]
  },
  {
   "cell_type": "code",
   "execution_count": 240,
   "metadata": {},
   "outputs": [
    {
     "data": {
      "text/plain": [
       "[[6,\n",
       "  6,\n",
       "  6,\n",
       "  6,\n",
       "  6,\n",
       "  6,\n",
       "  6,\n",
       "  6,\n",
       "  9,\n",
       "  9,\n",
       "  9,\n",
       "  9,\n",
       "  9,\n",
       "  9,\n",
       "  9,\n",
       "  9,\n",
       "  5,\n",
       "  5,\n",
       "  5,\n",
       "  5,\n",
       "  5,\n",
       "  5,\n",
       "  5,\n",
       "  5,\n",
       "  0,\n",
       "  0,\n",
       "  0,\n",
       "  0,\n",
       "  0,\n",
       "  0,\n",
       "  0,\n",
       "  0,\n",
       "  3,\n",
       "  3,\n",
       "  3,\n",
       "  3,\n",
       "  3,\n",
       "  3,\n",
       "  3,\n",
       "  3],\n",
       " [6,\n",
       "  6,\n",
       "  6,\n",
       "  6,\n",
       "  6,\n",
       "  6,\n",
       "  6,\n",
       "  9,\n",
       "  9,\n",
       "  9,\n",
       "  9,\n",
       "  9,\n",
       "  9,\n",
       "  9,\n",
       "  5,\n",
       "  5,\n",
       "  5,\n",
       "  5,\n",
       "  5,\n",
       "  5,\n",
       "  5,\n",
       "  0,\n",
       "  0,\n",
       "  0,\n",
       "  0,\n",
       "  0,\n",
       "  0,\n",
       "  0,\n",
       "  3,\n",
       "  3,\n",
       "  3,\n",
       "  3,\n",
       "  3,\n",
       "  3,\n",
       "  3],\n",
       " [6, 6, 6, 6, 6, 9, 9, 9, 9, 9, 5, 5, 5, 5, 5, 0, 0, 0, 0, 0, 3, 3, 3, 3, 3],\n",
       " [6,\n",
       "  6,\n",
       "  6,\n",
       "  6,\n",
       "  6,\n",
       "  6,\n",
       "  9,\n",
       "  9,\n",
       "  9,\n",
       "  9,\n",
       "  9,\n",
       "  9,\n",
       "  5,\n",
       "  5,\n",
       "  5,\n",
       "  5,\n",
       "  5,\n",
       "  5,\n",
       "  0,\n",
       "  0,\n",
       "  0,\n",
       "  0,\n",
       "  0,\n",
       "  0,\n",
       "  3,\n",
       "  3,\n",
       "  3,\n",
       "  3,\n",
       "  3,\n",
       "  3],\n",
       " [6,\n",
       "  6,\n",
       "  6,\n",
       "  6,\n",
       "  6,\n",
       "  6,\n",
       "  6,\n",
       "  6,\n",
       "  6,\n",
       "  6,\n",
       "  6,\n",
       "  6,\n",
       "  6,\n",
       "  6,\n",
       "  9,\n",
       "  9,\n",
       "  9,\n",
       "  9,\n",
       "  9,\n",
       "  9,\n",
       "  9,\n",
       "  9,\n",
       "  9,\n",
       "  9,\n",
       "  9,\n",
       "  9,\n",
       "  9,\n",
       "  9,\n",
       "  5,\n",
       "  5,\n",
       "  5,\n",
       "  5,\n",
       "  5,\n",
       "  5,\n",
       "  5,\n",
       "  5,\n",
       "  5,\n",
       "  5,\n",
       "  5,\n",
       "  5,\n",
       "  5,\n",
       "  5,\n",
       "  0,\n",
       "  0,\n",
       "  0,\n",
       "  0,\n",
       "  0,\n",
       "  0,\n",
       "  0,\n",
       "  0,\n",
       "  0,\n",
       "  0,\n",
       "  0,\n",
       "  0,\n",
       "  0,\n",
       "  0,\n",
       "  3,\n",
       "  3,\n",
       "  3,\n",
       "  3,\n",
       "  3,\n",
       "  3,\n",
       "  3,\n",
       "  3,\n",
       "  3,\n",
       "  3,\n",
       "  3,\n",
       "  3,\n",
       "  3,\n",
       "  3]]"
      ]
     },
     "execution_count": 240,
     "metadata": {},
     "output_type": "execute_result"
    }
   ],
   "source": [
    "lista_valores=[[int(z.split(':')[1]) for z in y[4].split(',') for y in archivo_filtrado_letras[i]] for i in range(len(letras_ordenadas))]\n",
    "lista_valores"
   ]
  },
  {
   "cell_type": "code",
   "execution_count": 234,
   "metadata": {},
   "outputs": [
    {
     "data": {
      "text/plain": [
       "224"
      ]
     },
     "execution_count": 234,
     "metadata": {},
     "output_type": "execute_result"
    }
   ],
   "source": [
    "sum(lista_valores[4])"
   ]
  },
  {
   "cell_type": "code",
   "execution_count": 238,
   "metadata": {},
   "outputs": [
    {
     "data": {
      "text/plain": [
       "938"
      ]
     },
     "execution_count": 238,
     "metadata": {},
     "output_type": "execute_result"
    }
   ],
   "source": [
    "lista_valores=[]\n",
    "for x in archivo_filtrado_letras: #grupo\n",
    "    for y in x: #línea\n",
    "        for z in y[4].split(','):\n",
    "            #print(z)\n",
    "            lista_valores.append(int(z.split(':')[1]))\n",
    "            #for i in z.split(':')[1]:\n",
    "                #lista_valores.append(int(i))\n",
    "\n",
    "sum(lista_valores)"
   ]
  },
  {
   "cell_type": "code",
   "execution_count": 264,
   "metadata": {},
   "outputs": [
    {
     "data": {
      "text/plain": [
       "[2,\n",
       " 0,\n",
       " 3,\n",
       " 9,\n",
       " 9,\n",
       " 5,\n",
       " 7,\n",
       " 1,\n",
       " 2,\n",
       " 0,\n",
       " 4,\n",
       " 1,\n",
       " 7,\n",
       " 5,\n",
       " 8,\n",
       " 2,\n",
       " 0,\n",
       " 7,\n",
       " 1,\n",
       " 12,\n",
       " 7,\n",
       " 7,\n",
       " 9,\n",
       " 3,\n",
       " 0,\n",
       " 5,\n",
       " 4,\n",
       " 6,\n",
       " 13,\n",
       " 5,\n",
       " 7,\n",
       " 3,\n",
       " 6,\n",
       " 9,\n",
       " 5,\n",
       " 0,\n",
       " 3]"
      ]
     },
     "execution_count": 264,
     "metadata": {},
     "output_type": "execute_result"
    }
   ],
   "source": [
    "lista_valores=[]\n",
    "for y in archivo_filtrado_letras[0]: #línea\n",
    "    for z in y[4].split(','):\n",
    "            #print(z)\n",
    "        lista_valores.append(int(z.split(':')[1]))\n",
    "sum(lista_valores)\n",
    "lista_valores"
   ]
  },
  {
   "cell_type": "code",
   "execution_count": 256,
   "metadata": {},
   "outputs": [
    {
     "data": {
      "text/plain": [
       "[['A', '2', '1999-10-28', 'a,f,c', 'ccc:2,ddd:0,aaa:3,hhh:9'],\n",
       " ['A', '3', '1999-08-28', 'a,b', 'hhh:9,iii:5,eee:7,bbb:1'],\n",
       " ['A', '7', '1998-07-28', 'c,d', 'bbb:2,hhh:0,ccc:4,fff:1,aaa:7'],\n",
       " ['A', '9', '1997-02-28', 'g,d,a', 'aaa:5,fff:8,ddd:2,iii:0,jjj:7,ccc:1'],\n",
       " ['A', '9', '1999-08-25', 'f,a,d', 'jjj:12,ggg:7,ccc:7,ddd:9,bbb:3'],\n",
       " ['A', '8', '1997-09-28', 'a,e,f', 'fff:0,ddd:5,ccc:4'],\n",
       " ['A', '6', '1999-07-29', 'f,e', 'hhh:6,jjj:13,eee:5,iii:7,ccc:3'],\n",
       " ['A', '9', '1998-04-26', 'b,f', 'ccc:6,aaa:9,eee:5,ddd:0,bbb:3']]"
      ]
     },
     "execution_count": 256,
     "metadata": {},
     "output_type": "execute_result"
    }
   ],
   "source": [
    "archivo_filtrado_letras[0]"
   ]
  },
  {
   "cell_type": "code",
   "execution_count": 272,
   "metadata": {},
   "outputs": [
    {
     "data": {
      "text/plain": [
       "177"
      ]
     },
     "execution_count": 272,
     "metadata": {},
     "output_type": "execute_result"
    }
   ],
   "source": [
    "#lista_valores=[int(z.split(':')[1]) for i in range(5) for y in archivo_filtrado_letras[i] for z in y[4].split(',') ] así es correcto\n",
    "lista_valores=[[int(z.split(':')[1]) for y in archivo_filtrado_letras[i] for z in y[4].split(',') ] for i in range(len(letras_ordenadas))]\n",
    "sum(lista_valores[0])"
   ]
  },
  {
   "cell_type": "code",
   "execution_count": 274,
   "metadata": {},
   "outputs": [
    {
     "data": {
      "text/plain": [
       "{'A': 177, 'B': 187, 'C': 114, 'D': 136, 'E': 324}"
      ]
     },
     "execution_count": 274,
     "metadata": {},
     "output_type": "execute_result"
    }
   ],
   "source": [
    "pregunta12={letras_ordenadas[i]: sum(lista_valores[i]) for i in range(len(letras_ordenadas))}\n",
    "pregunta12"
   ]
  }
 ],
 "metadata": {
  "interpreter": {
   "hash": "75384fd0ca3c2952361a90566c13d130cab84e43a6c89416ac57c7dceece1b2d"
  },
  "kernelspec": {
   "display_name": "Python 3.9.7 64-bit",
   "language": "python",
   "name": "python3"
  },
  "language_info": {
   "codemirror_mode": {
    "name": "ipython",
    "version": 3
   },
   "file_extension": ".py",
   "mimetype": "text/x-python",
   "name": "python",
   "nbconvert_exporter": "python",
   "pygments_lexer": "ipython3",
   "version": "3.9.7"
  },
  "orig_nbformat": 4
 },
 "nbformat": 4,
 "nbformat_minor": 2
}
